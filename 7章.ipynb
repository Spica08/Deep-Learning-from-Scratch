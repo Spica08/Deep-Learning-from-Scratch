{
  "nbformat": 4,
  "nbformat_minor": 0,
  "metadata": {
    "colab": {
      "provenance": [],
      "authorship_tag": "ABX9TyONlEKF1cQziSaGd2YtZO5S",
      "include_colab_link": true
    },
    "kernelspec": {
      "name": "python3",
      "display_name": "Python 3"
    },
    "language_info": {
      "name": "python"
    }
  },
  "cells": [
    {
      "cell_type": "markdown",
      "metadata": {
        "id": "view-in-github",
        "colab_type": "text"
      },
      "source": [
        "<a href=\"https://colab.research.google.com/github/Spica08/Deep-Learning-from-Scratch/blob/main/7%E7%AB%A0.ipynb\" target=\"_parent\"><img src=\"https://colab.research.google.com/assets/colab-badge.svg\" alt=\"Open In Colab\"/></a>"
      ]
    },
    {
      "cell_type": "code",
      "execution_count": 1,
      "metadata": {
        "id": "Ld3KUoGmHY5z"
      },
      "outputs": [],
      "source": [
        "#setup\n",
        "import sys, os\n",
        "import numpy as np\n",
        "import matplotlib.pyplot as plt\n",
        "import math\n",
        "import random\n",
        "import pickle\n",
        "from tqdm import tqdm\n",
        "from collections import OrderedDict"
      ]
    },
    {
      "cell_type": "code",
      "source": [
        "#function\n",
        "\n",
        "#恒等関数\n",
        "def identity_function(x):\n",
        "    return x\n",
        "\n",
        "#ステップ関数\n",
        "def step_function(x):\n",
        "  y = x > 0\n",
        "  return y.astype(int)\n",
        "\n",
        "#シグモイド関数\n",
        "def sigmoid(x):\n",
        "  return 1/(1+np.exp(-x))\n",
        "\n",
        "#ReLU関数\n",
        "def ReLU(x):\n",
        "  return np.maximum(0,x)\n",
        "\n",
        "#ソフトマックス関数\n",
        "def softmax(x):\n",
        "    x = x - np.max(x, axis=-1, keepdims=True)   # オーバーフロー対策\n",
        "    return np.exp(x) / np.sum(np.exp(x), axis=-1, keepdims=True)\n",
        "\n",
        "#2乗和誤差\n",
        "def mean_square_error(y, t):\n",
        "  return 0.5 * np.sum((y-t)**2)\n",
        "\n",
        "#交差エントロピー誤差\n",
        "def cross_entropy_error(y, t):\n",
        "    if y.ndim == 1:\n",
        "        t = t.reshape(1, t.size)\n",
        "        y = y.reshape(1, y.size)\n",
        "\n",
        "    # 教師データがone-hot-vectorの場合、正解ラベルのインデックスに変換\n",
        "    if t.size == y.size:\n",
        "        t = t.argmax(axis=1)\n",
        "\n",
        "    batch_size = y.shape[0]\n",
        "    return -np.sum(np.log(y[np.arange(batch_size), t] + 1e-7)) / batch_size\n",
        "\n",
        "def numerical_gradient(f, x):\n",
        "    h = 1e-4 # 0.0001\n",
        "    grad = np.zeros_like(x)\n",
        "\n",
        "    it = np.nditer(x, flags=['multi_index'], op_flags=['readwrite'])\n",
        "    while not it.finished:\n",
        "        idx = it.multi_index\n",
        "        tmp_val = x[idx]\n",
        "        x[idx] = tmp_val + h\n",
        "        fxh1 = f(x) # f(x+h)\n",
        "\n",
        "        x[idx] = tmp_val - h\n",
        "        fxh2 = f(x) # f(x-h)\n",
        "        grad[idx] = (fxh1 - fxh2) / (2*h)\n",
        "\n",
        "        x[idx] = tmp_val # 値を元に戻す\n",
        "        it.iternext()\n",
        "\n",
        "    return grad"
      ],
      "metadata": {
        "id": "E61YfdtlrBG4"
      },
      "execution_count": 2,
      "outputs": []
    },
    {
      "cell_type": "code",
      "source": [
        "class Adam:\n",
        "\n",
        "    \"\"\"Adam (http://arxiv.org/abs/1412.6980v8)\"\"\"\n",
        "\n",
        "    def __init__(self, lr=0.001, beta1=0.9, beta2=0.999):\n",
        "        self.lr = lr\n",
        "        self.beta1 = beta1\n",
        "        self.beta2 = beta2\n",
        "        self.iter = 0\n",
        "        self.m = None\n",
        "        self.v = None\n",
        "\n",
        "    def update(self, params, grads):\n",
        "        if self.m is None:\n",
        "            self.m, self.v = {}, {}\n",
        "            for key, val in params.items():\n",
        "                self.m[key] = np.zeros_like(val)\n",
        "                self.v[key] = np.zeros_like(val)\n",
        "\n",
        "        self.iter += 1\n",
        "        lr_t  = self.lr * np.sqrt(1.0 - self.beta2**self.iter) / (1.0 - self.beta1**self.iter)\n",
        "\n",
        "        for key in params.keys():\n",
        "            #self.m[key] = self.beta1*self.m[key] + (1-self.beta1)*grads[key]\n",
        "            #self.v[key] = self.beta2*self.v[key] + (1-self.beta2)*(grads[key]**2)\n",
        "            self.m[key] += (1 - self.beta1) * (grads[key] - self.m[key])\n",
        "            self.v[key] += (1 - self.beta2) * (grads[key]**2 - self.v[key])\n",
        "\n",
        "            params[key] -= lr_t * self.m[key] / (np.sqrt(self.v[key]) + 1e-7)\n",
        "\n",
        "            #unbias_m += (1 - self.beta1) * (grads[key] - self.m[key]) # correct bias\n",
        "            #unbisa_b += (1 - self.beta2) * (grads[key]*grads[key] - self.v[key]) # correct bias\n",
        "            #params[key] += self.lr * unbias_m / (np.sqrt(unbisa_b) + 1e-7)"
      ],
      "metadata": {
        "id": "qVSt84-RyaXL"
      },
      "execution_count": 3,
      "outputs": []
    },
    {
      "cell_type": "code",
      "source": [
        "class Relu:\n",
        "  def __init__(self):\n",
        "    self.mask = None\n",
        "\n",
        "  def forward(self, x):\n",
        "    self.mask = (x <= 0)\n",
        "    out = x.copy()\n",
        "    out[self.mask] = 0\n",
        "    return out\n",
        "\n",
        "  def backward(self, dout):\n",
        "    dout[self.mask] = 0\n",
        "    dx = dout\n",
        "    return dx\n",
        "\n",
        "class Affine:\n",
        "    def __init__(self, W, b):\n",
        "        self.W = W\n",
        "        self.b = b\n",
        "\n",
        "        self.x = None\n",
        "        self.original_x_shape = None\n",
        "        # 重み・バイアスパラメータの微分\n",
        "        self.dW = None\n",
        "        self.db = None\n",
        "\n",
        "    def forward(self, x):\n",
        "        # テンソル対応\n",
        "        self.original_x_shape = x.shape\n",
        "        x = x.reshape(x.shape[0], -1)\n",
        "        self.x = x\n",
        "\n",
        "        out = np.dot(self.x, self.W) + self.b\n",
        "\n",
        "        return out\n",
        "\n",
        "    def backward(self, dout):\n",
        "        dx = np.dot(dout, self.W.T)\n",
        "        self.dW = np.dot(self.x.T, dout)\n",
        "        self.db = np.sum(dout, axis=0)\n",
        "\n",
        "        dx = dx.reshape(*self.original_x_shape)  # 入力データの形状に戻す（テンソル対応）\n",
        "        return dx\n",
        "\n",
        "class SoftmaxWithLoss:\n",
        "  def __init__(self):\n",
        "    self.loss = None\n",
        "    self.y = None #softmaxの出力\n",
        "    self.t = None #教師データ\n",
        "\n",
        "  def forward(self, x, t):\n",
        "    self.t = t\n",
        "    self.y = softmax(x)\n",
        "    self.loss = cross_entropy_error(self.y, self.t)\n",
        "    return self.loss\n",
        "\n",
        "  def backward(self, dout = 1):\n",
        "    batch_size = self.t.shape[0]\n",
        "    if self.t.size == self.y.size:\n",
        "      dx = (self.y - self.t) / batch_size\n",
        "    else:\n",
        "      dx = self.y.copy()\n",
        "      dx[np.arange(batch_size), self.t] -= 1\n",
        "      dx = dx / batch_size\n",
        "    return dx"
      ],
      "metadata": {
        "id": "uw1640Slq_-7"
      },
      "execution_count": 4,
      "outputs": []
    },
    {
      "cell_type": "code",
      "source": [
        "def im2col(input_data, filter_h, filter_w, stride=1, pad=0):\n",
        "    \"\"\"\n",
        "\n",
        "    Parameters\n",
        "    ----------\n",
        "    input_data : (データ数, チャンネル, 高さ, 幅)の4次元配列からなる入力データ\n",
        "    filter_h : フィルターの高さ\n",
        "    filter_w : フィルターの幅\n",
        "    stride : ストライド\n",
        "    pad : パディング\n",
        "\n",
        "    Returns\n",
        "    -------\n",
        "    col : 2次元配列\n",
        "    \"\"\"\n",
        "    N, C, H, W = input_data.shape\n",
        "    out_h = (H + 2*pad - filter_h)//stride + 1\n",
        "    out_w = (W + 2*pad - filter_w)//stride + 1\n",
        "\n",
        "    img = np.pad(input_data, [(0,0), (0,0), (pad, pad), (pad, pad)], 'constant')\n",
        "    col = np.zeros((N, C, filter_h, filter_w, out_h, out_w))\n",
        "\n",
        "    for y in range(filter_h):\n",
        "        y_max = y + stride*out_h\n",
        "        for x in range(filter_w):\n",
        "            x_max = x + stride*out_w\n",
        "            col[:, :, y, x, :, :] = img[:, :, y:y_max:stride, x:x_max:stride]\n",
        "\n",
        "    col = col.transpose(0, 4, 5, 1, 2, 3).reshape(N*out_h*out_w, -1)\n",
        "    return col\n",
        "\n",
        "def col2im(col, input_shape, filter_h, filter_w, stride=1, pad=0):\n",
        "    \"\"\"\n",
        "\n",
        "    Parameters\n",
        "    ----------\n",
        "    col :\n",
        "    input_shape : 入力データの形状（例：(10, 1, 28, 28)）\n",
        "    filter_h :\n",
        "    filter_w\n",
        "    stride\n",
        "    pad\n",
        "\n",
        "    Returns\n",
        "    -------\n",
        "\n",
        "    \"\"\"\n",
        "    N, C, H, W = input_shape\n",
        "    out_h = (H + 2*pad - filter_h)//stride + 1\n",
        "    out_w = (W + 2*pad - filter_w)//stride + 1\n",
        "    col = col.reshape(N, out_h, out_w, C, filter_h, filter_w).transpose(0, 3, 4, 5, 1, 2)\n",
        "\n",
        "    img = np.zeros((N, C, H + 2*pad + stride - 1, W + 2*pad + stride - 1))\n",
        "    for y in range(filter_h):\n",
        "        y_max = y + stride*out_h\n",
        "        for x in range(filter_w):\n",
        "            x_max = x + stride*out_w\n",
        "            img[:, :, y:y_max:stride, x:x_max:stride] += col[:, :, y, x, :, :]\n",
        "\n",
        "    return img[:, :, pad:H + pad, pad:W + pad]\n"
      ],
      "metadata": {
        "id": "jbTHODCq_Gho"
      },
      "execution_count": 5,
      "outputs": []
    },
    {
      "cell_type": "markdown",
      "source": [
        "# 7章 畳み込みニューラルネットワーク\n"
      ],
      "metadata": {
        "id": "u7Ty5okHH4Es"
      }
    },
    {
      "cell_type": "markdown",
      "source": [
        "## 7.1 全体の構造\n",
        "CNNでは、新たに「Convolution layer (畳み込み層)」「Pooling layer (プーリング層)」が登場する。  \n",
        "これまでのニューラルネットワークでは、隣接する層の全てのニューロン間で結合があり、これを**全結合**と呼ぶ。これまででは全結合層をAffineレイヤとして実装した。そこでは、「Affine - ReLU」を何層か重ね、最後に「Affine - Softmax」を通すことで確率を出力した。  \n",
        "CNNでは、新たに「Convolution - ReLU - (Pooling)」といった層が加わる。また、出力に近い層ではこれまで通り「Affine - ReLU」や「Affine - Softmax」が用いられる。"
      ],
      "metadata": {
        "id": "3VXYfaG4H7iq"
      }
    },
    {
      "cell_type": "markdown",
      "source": [
        "## 7.2 畳み込み層\n"
      ],
      "metadata": {
        "id": "fG7eECu7JIl7"
      }
    },
    {
      "cell_type": "markdown",
      "source": [
        "### 7.2.1 全結合層の問題点\n",
        "全結合層では、隣接する層のニューロンが全て連結されており、出力の数は任意に決めることができる。  \n",
        "問題点としては、データの「形状」が無視されてしまう点が挙げられる。例えば3次元の画像データを全結合層に通す時、1次元化する必要がある。  \n",
        "一般に、画像は3次元の形状であり、この形状には大切な空間的情報が含まれている。空間的に近いピクセルは似たような値だったり、RGBの各チャンネルにはそれぞれ密接な関連性があったり、距離の離れたピクセル同士はあまり関連がなかったり、などである。しかし全結合層では全ての入力データを同等のニューロンとして扱うので、形状に関する情報を活かすことができない。  \n",
        "一方畳み込み層(Convolution layer) は形状を維持する。画像の場合、データを3次元データとして受け取り、同じく3次元のデータとして次の層に出力する。そのためCNNでは、画像などの形状を有したデータを正しく理解できる可能性がある。  \n",
        "用語として、畳み込み層の入出力データを**特徴マップ**、入力データと出力データはそれぞれ**入力特徴マップ**、**出力特徴マップ**と呼ぶ。"
      ],
      "metadata": {
        "id": "QE5DVxHpJN6C"
      }
    },
    {
      "cell_type": "markdown",
      "source": [
        "### 7.2.2 畳み込み演算\n",
        "畳み込み層では「畳み込み演算」、画像処理でいうところの「フィルター演算」を行う。  \n",
        "畳み込み演算では、入力データに対してフィルター(カーネル)を適用する。具体的には、入力データに対してフィルターのウィンドウを一定の間隔でスライドさせながら適用する。それぞれの場所ではフィルターの要素と、入力データの対応する要素を乗算し、その和を求める。これにバイアスを加えたものが演算結果として出力される。"
      ],
      "metadata": {
        "id": "fjJN8NcVKw5A"
      }
    },
    {
      "cell_type": "markdown",
      "source": [
        "### 7.2.3 パディング\n",
        "畳み込み層の処理を行う前に、入力データの周囲に固定のデータ(0など)を埋めることがある。これを**パディング**という。これを使う主な理由としては、出力データの形状を調整することが挙げられる。パディングにより、畳み込み演算によりデータが空間的に縮小することを防ぐことができる。"
      ],
      "metadata": {
        "id": "aJmyzbfeMOFZ"
      }
    },
    {
      "cell_type": "markdown",
      "source": [
        "### 7.2.4 ストライド\n",
        "フィルターを適用する位置の間隔を**ストライド**という。ストライドによっても、出力データの形状は変化する。  \n",
        "ここで、入力サイズを(H, W)、フィルターサイズを(FH, FW)、パディングをP、ストライドをSとした時に出力サイズがどのように変化するかを考える。数式では以下のように表される。  \n",
        "$OH = \\frac{H + 2P - FH}{S} + 1$  \n",
        "$OW = \\frac{W+ 2P - FW}{S} + 1$\n",
        "実装の際には、これらが割り切れない時はエラーを出力するなどして対応する必要がある。"
      ],
      "metadata": {
        "id": "b3sfYsrQM1-x"
      }
    },
    {
      "cell_type": "markdown",
      "source": [
        "### 7.2.5 3次元データの畳み込み演算\n",
        "3次元データに対しても同様に畳み込み演算を行うことができる。その際フィルターにもチャンネル方向の次元が加わった3次元のフィルターを用いる。"
      ],
      "metadata": {
        "id": "PqxBZmRAPxgD"
      }
    },
    {
      "cell_type": "markdown",
      "source": [
        "### 7.2.6 ブロックで考える\n",
        "3次元データやフィルターを多次元配列として表すときは、(channel, height, width)の順に並べて書くこととする。  \n",
        "ここで、(C, H, W)の入力データと(C, FH, FW)のフィルターの畳み込み演算では、(1, OH, OW)の形状を持った出力データが得られる。この出力をチャンネル方向にも持たせるには、複数のフィルターを用いる。(C, H, W)の入力データに対してFN個のフィルター(FN, C, FH, FW)を適用すると、(FN, OH, OW)の出力が得られる。ここで、畳み込み演算ではバイアスも存在する。バイアスは1チャネルごとにひとつだけデータを持つ。(FN, OH, OW)の出力に対してバイアスの形状は(FN, 1, 1)となる。"
      ],
      "metadata": {
        "id": "trekhRU1QXY6"
      }
    },
    {
      "cell_type": "markdown",
      "source": [
        "### 7.2.7 バッチ処理\n",
        "略"
      ],
      "metadata": {
        "id": "qTgzD-9zSELZ"
      }
    },
    {
      "cell_type": "markdown",
      "source": [
        "## 7.3 プーリング層\n",
        "プーリングとは、縦・横方向の空間を小さくする演算である。例えば、2x2の領域を1つの集約するような演算を行うことで空間サイズを小さくする。演算としては「Max pooling」「average pooling」などが存在し、一般的にウィンドウサイズとストライドを同じ値に設定する。"
      ],
      "metadata": {
        "id": "nAVzF2LkSMeL"
      }
    },
    {
      "cell_type": "markdown",
      "source": [
        "### 7.3.1 プーリング層の特徴\n",
        "プーリング層には以下の特徴がある。  \n",
        "1. 学習するパラメータがない  \n",
        "2. チャンネル数は変化しない  \n",
        "3. 微小な位置変化に対してロバスト"
      ],
      "metadata": {
        "id": "-rcgUuXLSqg9"
      }
    },
    {
      "cell_type": "markdown",
      "source": [
        "## 7.4 Convolution/Poolingレイヤの実装\n"
      ],
      "metadata": {
        "id": "4u9TOquRTUHZ"
      }
    },
    {
      "cell_type": "markdown",
      "source": [
        "### 7.4.1 4次元配列\n",
        "CNNでは、4次元データを扱うことになる。"
      ],
      "metadata": {
        "id": "VhredFS8Th2E"
      }
    },
    {
      "cell_type": "code",
      "source": [
        "x = np.random.rand(10, 1, 28, 28)\n",
        "print(x.shape)"
      ],
      "metadata": {
        "colab": {
          "base_uri": "https://localhost:8080/"
        },
        "id": "b_kuvnNs7TuR",
        "outputId": "b48ba402-1a7f-4147-e900-9350c84b589a"
      },
      "execution_count": 6,
      "outputs": [
        {
          "output_type": "stream",
          "name": "stdout",
          "text": [
            "(10, 1, 28, 28)\n"
          ]
        }
      ]
    },
    {
      "cell_type": "markdown",
      "source": [
        "### 7.4.2 im2colによる展開\n",
        "畳み込み演算の実装は、ナイーブな実装ではfor 文を複数重ねた実装になるが、面倒で速度も遅い。ここではim2col関数を使ったシンプルな実装を行う。  \n",
        "im2colは、フィルターにとって都合が良いように入力データを展開する。具体的には、入力データに対してフィルターを適用する場所の領域を1列に展開する。この展開のためにim2colでは通常よりも多くメモリを消費するが、行列計算は高度に最適化されており、速度面での恩恵を受けることもできる。  \n",
        "入力データの展開後は、フィルターも1列に展開して2つの行列の積を計算するだけである。"
      ],
      "metadata": {
        "id": "sSbTPkQO7nO_"
      }
    },
    {
      "cell_type": "markdown",
      "source": [
        "### 7.4.3 Convolution レイヤの実装\n",
        "今回はim2colの実装は省略し、実際に使ってみるところから始める。"
      ],
      "metadata": {
        "id": "RKrsitMM-47y"
      }
    },
    {
      "cell_type": "code",
      "source": [
        "x1 = np.random.rand(1, 3, 7, 7)\n",
        "col1 = im2col(x1, 5, 5, stride = 1, pad = 0)\n",
        "print(col1.shape)\n",
        "\n",
        "x2 = np.random.rand(10, 3, 7, 7)\n",
        "col2 = im2col(x2, 5, 5, stride = 1, pad = 0)\n",
        "print(col2.shape)"
      ],
      "metadata": {
        "colab": {
          "base_uri": "https://localhost:8080/"
        },
        "id": "xwWdrTY6_zaw",
        "outputId": "ec0f8687-5bc8-46b8-b56e-3af0b931fa48"
      },
      "execution_count": 7,
      "outputs": [
        {
          "output_type": "stream",
          "name": "stdout",
          "text": [
            "(9, 75)\n",
            "(90, 75)\n"
          ]
        }
      ]
    },
    {
      "cell_type": "code",
      "source": [
        "#Convolutionの実装\n",
        "class Convolution:\n",
        "    def __init__(self, W, b, stride = 1, pad = 0):\n",
        "        self.W = W\n",
        "        self.b = b\n",
        "        self.stride = stride\n",
        "        self.pad = pad\n",
        "\n",
        "        # 中間データ（backward時に使用）\n",
        "        self.x = None\n",
        "        self.col = None\n",
        "        self.col_W = None\n",
        "\n",
        "        # 重み・バイアスパラメータの勾配\n",
        "        self.dW = None\n",
        "        self.db = None\n",
        "\n",
        "    def forward(self, x):\n",
        "        FN, C, FH, FW = self.W.shape # weight\n",
        "        N, C, H, W = x.shape # data\n",
        "        out_h = int(1 + (H + 2 * self.pad - FH) / self.stride)\n",
        "        out_w = int(1 + (W + 2 * self.pad - FW) / self.stride)\n",
        "\n",
        "        col = im2col(x, FH, FW, self.stride, self.pad) # (N * out_h * out_w) * (C, FH, FW)\n",
        "        col_W = self.W.reshape(FN, -1).T # (C * FH * FW) * FN\n",
        "        out = np.dot(col, col_W) + self.b # (N * out_h * out_w) * FN\n",
        "\n",
        "        out = out.reshape(N, out_h, out_w, -1).transpose(0, 3, 1, 2)\n",
        "\n",
        "        self.x = x\n",
        "        self.col = col\n",
        "        self.col_W = col_W\n",
        "\n",
        "        return out\n",
        "\n",
        "    def backward(self, dout):\n",
        "        FN, C, FH, FW = self.W.shape\n",
        "        dout = dout.transpose(0,2,3,1).reshape(-1, FN)\n",
        "\n",
        "        self.db = np.sum(dout, axis=0)\n",
        "        self.dW = np.dot(self.col.T, dout)\n",
        "        self.dW = self.dW.transpose(1, 0).reshape(FN, C, FH, FW)\n",
        "\n",
        "        dcol = np.dot(dout, self.col_W.T)\n",
        "        dx = col2im(dcol, self.x.shape, FH, FW, self.stride, self.pad)\n",
        "\n",
        "        return dx"
      ],
      "metadata": {
        "id": "R5sNj9PqAorq"
      },
      "execution_count": 6,
      "outputs": []
    },
    {
      "cell_type": "markdown",
      "source": [
        "### 7.4.4 Pooling レイヤの実装\n",
        "Convolution同様にim2colを使って実装するが、チャンネルごとに操作が独立である点に注意する。"
      ],
      "metadata": {
        "id": "aXqmI4GcSh7C"
      }
    },
    {
      "cell_type": "code",
      "source": [
        "class Pooling:\n",
        "    def __init__(self, pool_h, pool_w, stride = 1, pad = 0):\n",
        "        self.pool_h = pool_h\n",
        "        self.pool_w = pool_w\n",
        "        self.stride = stride\n",
        "        self.pad = pad\n",
        "\n",
        "        self.x = None\n",
        "        self.arg_max = None\n",
        "\n",
        "    def forward(self, x):\n",
        "        N, C, H, W = x.shape # data\n",
        "        out_h = int(1 + (H - self.pool_h) / self.stride)\n",
        "        out_w = int(1 + (W - self.pool_w) / self.stride)\n",
        "\n",
        "        col = im2col(x, self.pool_h, self.pool_w, self.stride, self.pad) # (N * out_h * out_w) * (C, pool_h, pool_w)\n",
        "        col = col.reshape(-1, self.pool_h * self.pool_w) # (N * out_h * out_w * C) *  (pool_h, pool_w)\n",
        "        arg_max = np.argmax(col, axis=1)\n",
        "        out = np.max(col, axis = 1) # (N * out_h * out_w * C) *  (1)\n",
        "        out = out.reshape(N, out_h, out_w, C).transpose(0, 3, 1, 2)\n",
        "\n",
        "        self.x = x\n",
        "        self.arg_max = arg_max\n",
        "\n",
        "        return out\n",
        "\n",
        "    def backward(self, dout):\n",
        "        dout = dout.transpose(0, 2, 3, 1) # N * out_h * out_w * C\n",
        "\n",
        "        pool_size = self.pool_h * self.pool_w\n",
        "        dmax = np.zeros((dout.size, pool_size)) # (N * out_h * out_w * C) * (pool_h * pool_w)\n",
        "        dmax[np.arange(self.arg_max.size), self.arg_max.flatten()] = dout.flatten()\n",
        "        dmax = dmax.reshape(dout.shape + (pool_size,)) # N * out_h * out_w * C * (pool_h * pool_w)\n",
        "\n",
        "        dcol = dmax.reshape(dmax.shape[0] * dmax.shape[1] * dmax.shape[2], -1) # (N * out_h * out_w) * (C * pool_h * pool_w)\n",
        "        dx = col2im(dcol, self.x.shape, self.pool_h, self.pool_w, self.stride, self.pad)\n",
        "\n",
        "        return dx"
      ],
      "metadata": {
        "id": "06r3fKtESsgS"
      },
      "execution_count": 7,
      "outputs": []
    },
    {
      "cell_type": "markdown",
      "source": [
        "## 7.5 CNNの実装\n",
        "「Convolution - ReLU - Pooling - Affine - ReLU - Affine - Softmax」というアーキテクチャでCNNを構成する。"
      ],
      "metadata": {
        "id": "A22Z47qmbIIp"
      }
    },
    {
      "cell_type": "code",
      "source": [
        "class SimpleConvNet:\n",
        "    def __init__(self, input_dim = (1, 28, 28),\n",
        "                 conv_param = {\"filter_num\" : 30, \"filter_size\" : 5, \"pad\" : 0, \"stride\" : 1}, hidden_size = 100, output_size = 10, weight_init_std = 0.01):\n",
        "        filter_num = conv_param[\"filter_num\"]\n",
        "        filter_size = conv_param[\"filter_size\"]\n",
        "        filter_pad = conv_param[\"pad\"]\n",
        "        filter_stride = conv_param[\"stride\"]\n",
        "        input_size = input_dim[1]\n",
        "        conv_output_size  = (input_size - filter_size + 2 * filter_pad) / filter_stride + 1\n",
        "        pool_output_size = int(filter_num * (conv_output_size / 2) * (conv_output_size / 2))\n",
        "\n",
        "        self.params = {}\n",
        "        #Convolution\n",
        "        self.params[\"W1\"] = weight_init_std * np.random.randn(filter_num, input_dim[0], filter_size, filter_size)\n",
        "        self.params[\"b1\"] = np.zeros(filter_num)\n",
        "        #Affine\n",
        "        self.params[\"W2\"] = weight_init_std * np.random.randn(pool_output_size, hidden_size)\n",
        "        self.params[\"b2\"] = np.zeros(hidden_size)\n",
        "        self.params[\"W3\"] = weight_init_std * np.random.randn(hidden_size, output_size)\n",
        "        self.params[\"b3\"] = np.zeros(output_size)\n",
        "\n",
        "        self.layers = OrderedDict()\n",
        "        self.layers[\"Conv1\"] = Convolution(self.params[\"W1\"], self.params[\"b1\"], conv_param[\"stride\"], conv_param[\"pad\"])\n",
        "        self.layers[\"Relu1\"] = Relu()\n",
        "        self.layers[\"Pool1\"] = Pooling(pool_h = 2, pool_w = 2, stride = 2)\n",
        "        self.layers[\"Affine1\"] = Affine(self.params[\"W2\"], self.params[\"b2\"])\n",
        "        self.layers[\"Relu2\"] = Relu()\n",
        "        self.layers[\"Affine2\"] = Affine(self.params[\"W3\"], self.params[\"b3\"])\n",
        "        self.last_layer = SoftmaxWithLoss()\n",
        "\n",
        "    def predict(self, x):\n",
        "        for layer in self.layers.values():\n",
        "            x = layer.forward(x)\n",
        "        return x\n",
        "\n",
        "    def loss(self, x, t):\n",
        "        y = self.predict(x)\n",
        "        return self.last_layer.forward(y, t)\n",
        "\n",
        "    def accuracy(self, x, t):\n",
        "        y = self.predict(x)\n",
        "        y = np.argmax(y, axis = 1)\n",
        "        if t.ndim != 1:\n",
        "            t = np.argmax(t, axis = 1)\n",
        "        accuracy = np.sum((y == t)) / float(x.shape[0])\n",
        "        return accuracy\n",
        "\n",
        "    def gradient(self, x, t):\n",
        "        # forward\n",
        "        self.loss(x, t)\n",
        "\n",
        "        #backward\n",
        "        dout = 1\n",
        "        dout = self.last_layer.backward(dout)\n",
        "\n",
        "        layers = list(self.layers.values())\n",
        "        layers.reverse()\n",
        "        for layer in layers:\n",
        "            dout =  layer.backward(dout)\n",
        "\n",
        "        grads = {}\n",
        "        grads[\"W1\"] = self.layers[\"Conv1\"].dW\n",
        "        grads[\"b1\"] = self.layers[\"Conv1\"].db\n",
        "        grads[\"W2\"] = self.layers[\"Affine1\"].dW\n",
        "        grads[\"b2\"] = self.layers[\"Affine1\"].db\n",
        "        grads[\"W3\"] = self.layers[\"Affine2\"].dW\n",
        "        grads[\"b3\"] = self.layers[\"Affine2\"].db\n",
        "\n",
        "        return grads"
      ],
      "metadata": {
        "id": "xLQV8A93dsg1"
      },
      "execution_count": 8,
      "outputs": []
    },
    {
      "cell_type": "code",
      "source": [
        "#データ準備\n",
        "from google.colab import drive\n",
        "drive.mount('/content/drive')"
      ],
      "metadata": {
        "colab": {
          "base_uri": "https://localhost:8080/"
        },
        "id": "iJNzCeWAtRZt",
        "outputId": "07cf8467-ecb7-4ea2-a4f6-10997a397005"
      },
      "execution_count": 9,
      "outputs": [
        {
          "output_type": "stream",
          "name": "stdout",
          "text": [
            "Mounted at /content/drive\n"
          ]
        }
      ]
    },
    {
      "cell_type": "code",
      "source": [
        "# mnist.pyをインポート\n",
        "sys.path.append(\"/content/drive/MyDrive/Colab Notebooks/ゼロから作るDeep Learning\")\n",
        "from mnist import load_mnist"
      ],
      "metadata": {
        "id": "Rxf-8eDftWXK"
      },
      "execution_count": 10,
      "outputs": []
    },
    {
      "cell_type": "code",
      "source": [
        "#データの読み込み\n",
        "(x_train, t_train), (x_test, t_test) = load_mnist(flatten = False, normalize = True, one_hot_label = True)\n",
        "x_train, t_train = x_train[:10000], t_train[:10000]\n",
        "x_test, t_test = x_test[:1000], t_test[:1000]\n",
        "\n",
        "# 学習過程でのlossを保存\n",
        "train_loss_list = []\n",
        "train_acc_list = []\n",
        "test_acc_list = []\n",
        "\n",
        "#ハイパーパラメータ\n",
        "iters_num = 1000\n",
        "train_size = x_train.shape[0]\n",
        "batch_size = 100\n",
        "learning_rate = 0.1\n",
        "\n",
        "#1エポックあたりの繰り返し数\n",
        "iter_per_epoch = max(train_size / batch_size, 1)\n",
        "\n",
        "#モデルの定義\n",
        "network = SimpleConvNet(input_dim=(1,28,28),\n",
        "                        conv_param = {'filter_num': 30, 'filter_size': 5, 'pad': 0, 'stride': 1},\n",
        "                        hidden_size=100, output_size=10, weight_init_std=0.01)\n",
        "\n",
        "optimizer = Adam(lr = 0.001)\n",
        "\n",
        "#ミニバッチ学習\n",
        "for i in tqdm(range(iters_num)):\n",
        "    #ミニバッチ取得\n",
        "    batch_mask = np.random.choice(train_size, batch_size)\n",
        "    x_batch = x_train[batch_mask]\n",
        "    t_batch = t_train[batch_mask]\n",
        "\n",
        "    #勾配計算\n",
        "    grad = network.gradient(x_batch, t_batch)\n",
        "\n",
        "    #パラメータ更新\n",
        "    optimizer.update(network.params, grad)\n",
        "\n",
        "    #学習過程の記録\n",
        "    loss = network.loss(x_batch, t_batch)\n",
        "    train_loss_list.append(loss)\n",
        "\n",
        "    if i % iter_per_epoch == 0:\n",
        "        train_acc = network.accuracy(x_train, t_train)\n",
        "        test_acc = network.accuracy(x_test, t_test)\n",
        "        train_acc_list.append(train_acc)\n",
        "        test_acc_list.append(test_acc)\n",
        "        print(\"train acc, test, acc | \" + str(train_acc) +\", \" + str(test_acc))"
      ],
      "metadata": {
        "colab": {
          "base_uri": "https://localhost:8080/"
        },
        "id": "HbuPDKwFtg2L",
        "outputId": "7e916323-bb8f-46dd-d990-853ee6f75d4f"
      },
      "execution_count": 11,
      "outputs": [
        {
          "output_type": "stream",
          "name": "stderr",
          "text": [
            "  0%|          | 1/1000 [00:20<5:36:38, 20.22s/it]"
          ]
        },
        {
          "output_type": "stream",
          "name": "stdout",
          "text": [
            "train acc, test, acc | 0.2937, 0.254\n"
          ]
        },
        {
          "output_type": "stream",
          "name": "stderr",
          "text": [
            " 10%|█         | 101/1000 [01:27<1:23:12,  5.55s/it]"
          ]
        },
        {
          "output_type": "stream",
          "name": "stdout",
          "text": [
            "train acc, test, acc | 0.8985, 0.872\n"
          ]
        },
        {
          "output_type": "stream",
          "name": "stderr",
          "text": [
            " 20%|██        | 201/1000 [02:42<1:24:19,  6.33s/it]"
          ]
        },
        {
          "output_type": "stream",
          "name": "stdout",
          "text": [
            "train acc, test, acc | 0.9176, 0.889\n"
          ]
        },
        {
          "output_type": "stream",
          "name": "stderr",
          "text": [
            " 30%|███       | 301/1000 [03:48<56:35,  4.86s/it]"
          ]
        },
        {
          "output_type": "stream",
          "name": "stdout",
          "text": [
            "train acc, test, acc | 0.9448, 0.94\n"
          ]
        },
        {
          "output_type": "stream",
          "name": "stderr",
          "text": [
            " 40%|████      | 401/1000 [04:58<1:01:37,  6.17s/it]"
          ]
        },
        {
          "output_type": "stream",
          "name": "stdout",
          "text": [
            "train acc, test, acc | 0.9624, 0.947\n"
          ]
        },
        {
          "output_type": "stream",
          "name": "stderr",
          "text": [
            " 50%|█████     | 501/1000 [06:13<53:35,  6.44s/it]"
          ]
        },
        {
          "output_type": "stream",
          "name": "stdout",
          "text": [
            "train acc, test, acc | 0.9667, 0.953\n"
          ]
        },
        {
          "output_type": "stream",
          "name": "stderr",
          "text": [
            " 60%|██████    | 601/1000 [07:21<39:08,  5.89s/it]"
          ]
        },
        {
          "output_type": "stream",
          "name": "stdout",
          "text": [
            "train acc, test, acc | 0.9775, 0.966\n"
          ]
        },
        {
          "output_type": "stream",
          "name": "stderr",
          "text": [
            " 70%|███████   | 701/1000 [08:32<28:16,  5.67s/it]"
          ]
        },
        {
          "output_type": "stream",
          "name": "stdout",
          "text": [
            "train acc, test, acc | 0.9767, 0.964\n"
          ]
        },
        {
          "output_type": "stream",
          "name": "stderr",
          "text": [
            " 80%|████████  | 801/1000 [09:39<18:42,  5.64s/it]"
          ]
        },
        {
          "output_type": "stream",
          "name": "stdout",
          "text": [
            "train acc, test, acc | 0.9832, 0.962\n"
          ]
        },
        {
          "output_type": "stream",
          "name": "stderr",
          "text": [
            " 90%|█████████ | 901/1000 [10:49<08:42,  5.27s/it]"
          ]
        },
        {
          "output_type": "stream",
          "name": "stdout",
          "text": [
            "train acc, test, acc | 0.9869, 0.973\n"
          ]
        },
        {
          "output_type": "stream",
          "name": "stderr",
          "text": [
            "100%|██████████| 1000/1000 [11:40<00:00,  1.43it/s]\n"
          ]
        }
      ]
    },
    {
      "cell_type": "code",
      "source": [
        "fig, ax = plt.subplots(figsize = (5,5))\n",
        "ax.plot(np.arange(len(train_acc_list)), train_acc_list)\n",
        "ax.plot(np.arange(len(test_acc_list)), test_acc_list)\n",
        "fig.show()"
      ],
      "metadata": {
        "colab": {
          "base_uri": "https://localhost:8080/",
          "height": 445
        },
        "id": "myJgt4CmuJgo",
        "outputId": "d09d1c4c-a8d2-48e2-dee8-1b720c1bbe73"
      },
      "execution_count": 12,
      "outputs": [
        {
          "output_type": "display_data",
          "data": {
            "text/plain": [
              "<Figure size 500x500 with 1 Axes>"
            ],
            "image/png": "[encoded data removed]"
          },
          "metadata": {}
        }
      ]
    },
    {
      "cell_type": "markdown",
      "source": [
        "簡単な学習でも全結合層のみのニューラルネットワークよりも高い性能が出た。"
      ],
      "metadata": {
        "id": "eGRLZnmr2mnr"
      }
    },
    {
      "cell_type": "code",
      "source": [
        "# パラメータの保存\n",
        "params = {}\n",
        "for key, val in network.params.items():\n",
        "    params[key] = val\n",
        "with open(\"params.pkl\", 'wb') as f:\n",
        "    pickle.dump(params, f)\n",
        "print(\"Saved Network Parameters!\")"
      ],
      "metadata": {
        "colab": {
          "base_uri": "https://localhost:8080/"
        },
        "id": "4R2XA_T015ju",
        "outputId": "b54509f0-9caa-48f1-ebfa-35cf1001cbff"
      },
      "execution_count": 13,
      "outputs": [
        {
          "output_type": "stream",
          "name": "stdout",
          "text": [
            "Saved Network Parameters!\n"
          ]
        }
      ]
    },
    {
      "cell_type": "markdown",
      "source": [
        "## 7.6 CNNの可視化"
      ],
      "metadata": {
        "id": "m4PvdZKd1WIa"
      }
    },
    {
      "cell_type": "markdown",
      "source": [
        "### 7.6.1 1層目の重みの可視化\n",
        "ここまでで、サイズが(5, 5)のフィルター30個を用いて学習をおこなった。ここで、各フィルターの重みを学習前後で比べてみる。"
      ],
      "metadata": {
        "id": "F8Pt8ng51gUt"
      }
    },
    {
      "cell_type": "code",
      "source": [
        "def filter_show(filters, nx=8, margin=3, scale=10):\n",
        "    \"\"\"\n",
        "    c.f. https://gist.github.com/aidiary/07d530d5e08011832b12#file-draw_weight-py\n",
        "    \"\"\"\n",
        "    FN, C, FH, FW = filters.shape\n",
        "    ny = int(np.ceil(FN / nx))\n",
        "\n",
        "    fig = plt.figure()\n",
        "    fig.subplots_adjust(left=0, right=1, bottom=0, top=1, hspace=0.05, wspace=0.05)\n",
        "\n",
        "    for i in range(FN):\n",
        "        ax = fig.add_subplot(ny, nx, i+1, xticks=[], yticks=[])\n",
        "        ax.imshow(filters[i, 0], cmap=plt.cm.gray_r, interpolation='nearest')\n",
        "    plt.show()\n",
        "\n",
        "\n",
        "network_init = SimpleConvNet()\n",
        "# ランダム初期化後の重み\n",
        "filter_show(network_init.params['W1'])\n",
        "\n",
        "# 学習後の重み\n",
        "trained_params = {}\n",
        "with open(\"params.pkl\", 'rb') as f:\n",
        "    weight = pickle.load(f)\n",
        "    for key, val in params.items():\n",
        "        trained_params[key] = val\n",
        "filter_show(trained_params['W1'])"
      ],
      "metadata": {
        "colab": {
          "base_uri": "https://localhost:8080/",
          "height": 937
        },
        "id": "xcwqKIZD6JNt",
        "outputId": "c08bedf3-bd32-4cb7-bcb6-733a357d1fc8"
      },
      "execution_count": 15,
      "outputs": [
        {
          "output_type": "display_data",
          "data": {
            "text/plain": [
              "<Figure size 640x480 with 30 Axes>"
            ],
            "image/png": "[encoded data removed]"
          },
          "metadata": {}
        },
        {
          "output_type": "display_data",
          "data": {
            "text/plain": [
              "<Figure size 640x480 with 30 Axes>"
            ],
            "image/png": "[encoded data removed]"
          },
          "metadata": {}
        }
      ]
    },
    {
      "cell_type": "markdown",
      "source": [
        "学習前のフィルターには規則性が見られないが、学習後のフィルターには規則性が見られる。白から黒へグラデーションを伴って変化するフィルターや、塊のある領域(blob)などが確認できた。  \n",
        "これらの規則は何を見ているのかというと、エッジやブロブなどである。例えば左半分が白で右半分が黒であるようなフィルターは、縦方向のエッジに対応するフィルターだと捉えることができる。"
      ],
      "metadata": {
        "id": "M_b-e-_07Uw3"
      }
    },
    {
      "cell_type": "markdown",
      "source": [
        "### 7.6.2 階層構造による情報抽出\n",
        "上の結果はCNNの1層目の結果だったが、より何層にも重ねたCNNでは、層が深くなるにつれてより抽象化された情報が抽出されることが知られている。  \n",
        "例えばAlexNetといった複雑なモデルでは、1層目でエッジ、3層目でテクスチャ、5層目で物体のパーツ、といったようにより高度な情報を表すようになる。"
      ],
      "metadata": {
        "id": "8MmhlBis74R3"
      }
    },
    {
      "cell_type": "markdown",
      "source": [
        "## 7.7 代表的なCNN"
      ],
      "metadata": {
        "id": "K1kChCow8fTw"
      }
    },
    {
      "cell_type": "markdown",
      "source": [
        "### 7.7.1 LeNet\n",
        "1998年に提案されたモデル。プーリング層では、要素を間引くサンプリングを行なっており、活性化関数にシグモイド関数が採用されているなどの点で現在主流のCNNとは異なる。"
      ],
      "metadata": {
        "id": "4Z7UagwM8h6L"
      }
    },
    {
      "cell_type": "markdown",
      "source": [
        "### 7.7.2 AlexNet\n",
        "2012年に発表された。LeNetと比較して、活性化関数にはReLU、LRNという局所的正規化、Dropoutを使用、などの違いがある。"
      ],
      "metadata": {
        "id": "IsJ2nDP280iX"
      }
    }
  ]
}