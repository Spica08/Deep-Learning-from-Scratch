{
  "nbformat": 4,
  "nbformat_minor": 0,
  "metadata": {
    "colab": {
      "provenance": [],
      "authorship_tag": "ABX9TyM+BU/DHSeCBX09LDoKFAHp",
      "include_colab_link": true
    },
    "kernelspec": {
      "name": "python3",
      "display_name": "Python 3"
    },
    "language_info": {
      "name": "python"
    }
  },
  "cells": [
    {
      "cell_type": "markdown",
      "metadata": {
        "id": "view-in-github",
        "colab_type": "text"
      },
      "source": [
        "<a href=\"https://colab.research.google.com/github/Spica08/Deep-Learning-from-Scratch/blob/main/3%E7%AB%A0.ipynb\" target=\"_parent\"><img src=\"https://colab.research.google.com/assets/colab-badge.svg\" alt=\"Open In Colab\"/></a>"
      ]
    },
    {
      "cell_type": "code",
      "execution_count": 1,
      "metadata": {
        "id": "Tg35aHQIdRq3"
      },
      "outputs": [],
      "source": [
        "#setup\n",
        "import numpy as np\n",
        "import matplotlib.pyplot as plt\n",
        "import pickle"
      ]
    },
    {
      "cell_type": "markdown",
      "source": [
        "# 3章 ニューラルネットワーク  \n",
        "ニューラルネットワークは、パーセプトロンの適切な重みパラメータをデータから自動で学習できる。本章では、ニューラルネットワークの概要を学習する。"
      ],
      "metadata": {
        "id": "Bhp9uUVUdk09"
      }
    },
    {
      "cell_type": "markdown",
      "source": [
        "## 3.1 パーセプトロンからニューラルネットワークへ  "
      ],
      "metadata": {
        "id": "VGzN2kjsd8gN"
      }
    },
    {
      "cell_type": "markdown",
      "source": [
        "### 3.1.1 ニューラルネットワークの例  \n",
        "ニューラルネットワークは、入力層、中間層(隠れ層)、出力層から成る。"
      ],
      "metadata": {
        "id": "BgmE_-6heBgB"
      }
    },
    {
      "cell_type": "markdown",
      "source": [
        "### 3.1.2 パーセプトロンの復習  \n",
        "略"
      ],
      "metadata": {
        "id": "TaE57cvvewt8"
      }
    },
    {
      "cell_type": "markdown",
      "source": [
        "### 3.1.3 活性化関数の登場  \n",
        "入力信号を出力信号に変換する関数を活性化関数と呼ぶ。パーセプトロンの動作は、  \n",
        "$a = b + w_1x_1 + w_2x_2$  \n",
        "$y = h(a)(0(a<=0), 1(a>0))$   \n",
        "の2つの式で表される。これは、重み付き信号の和の結果がaというノードになり、その結果が活性化関数h()によりyというノードに変換されることを表す。"
      ],
      "metadata": {
        "id": "maewpj_VfqsX"
      }
    },
    {
      "cell_type": "markdown",
      "source": [
        "## 3.2 活性化関数  \n",
        "前章で見たh()は閾値を境にして出力が切り替わる関数で、「ステップ関数」や「階段関数」と呼ばれる。活性化関数には、別の関数を用いることができる。"
      ],
      "metadata": {
        "id": "6Pk1YiEQhPB_"
      }
    },
    {
      "cell_type": "markdown",
      "source": [
        "### 3.2.1 シグモイド関数  \n",
        "ニューラルネットワークでよく用いられる活性化関数のひとつが、以下の式で表されるシグモイド関数である。  \n",
        "$h(x) = \\frac{1}{1+exp(-x)}$  \n"
      ],
      "metadata": {
        "id": "r978jYhKhwuF"
      }
    },
    {
      "cell_type": "markdown",
      "source": [
        "### 3.2.2 ステップ関数の実装  \n",
        "実際にステップ関数を実装してみる。"
      ],
      "metadata": {
        "id": "XzkxL8FCiMZl"
      }
    },
    {
      "cell_type": "code",
      "source": [
        "#ステップ関数の実装\n",
        "def step_function(x):\n",
        "  y = x > 0\n",
        "  return y.astype(int)"
      ],
      "metadata": {
        "id": "psBWCg_uiim8"
      },
      "execution_count": 2,
      "outputs": []
    },
    {
      "cell_type": "code",
      "source": [
        "#確認\n",
        "print(\"x = [-1, 1, 2] : step_function(x) = {}\".format(step_function(np.array([-1,1,2]))))"
      ],
      "metadata": {
        "colab": {
          "base_uri": "https://localhost:8080/"
        },
        "id": "ps02NWghitJW",
        "outputId": "ecf75585-efd0-4594-cbe7-d823b9b580e2"
      },
      "execution_count": 3,
      "outputs": [
        {
          "output_type": "stream",
          "name": "stdout",
          "text": [
            "x = [-1, 1, 2] : step_function(x) = [0 1 1]\n"
          ]
        }
      ]
    },
    {
      "cell_type": "markdown",
      "source": [
        "### 3.2.3 ステップ関数のグラフ  \n",
        "ステップ関数をグラフで表してみる。\n"
      ],
      "metadata": {
        "id": "6uZgiCYzjJ6H"
      }
    },
    {
      "cell_type": "code",
      "source": [
        "#ステップ関数の描画\n",
        "x = np.arange(-5.0, 5.0, 0.1)\n",
        "y = step_function(x)\n",
        "fig,ax = plt.subplots(figsize=(7,5))\n",
        "ax.plot(x,y)\n",
        "ax.set_ylim(-0.1, 1.1)"
      ],
      "metadata": {
        "colab": {
          "base_uri": "https://localhost:8080/",
          "height": 462
        },
        "id": "YewyHCCVYUOM",
        "outputId": "149dd0e5-f662-4f4c-9fe0-dd0e2d44cfb7"
      },
      "execution_count": 4,
      "outputs": [
        {
          "output_type": "execute_result",
          "data": {
            "text/plain": [
              "(-0.1, 1.1)"
            ]
          },
          "metadata": {},
          "execution_count": 4
        },
        {
          "output_type": "display_data",
          "data": {
            "text/plain": [
              "<Figure size 700x500 with 1 Axes>"
            ],
            "image/png": "[encoded data removed]"
          },
          "metadata": {}
        }
      ]
    },
    {
      "cell_type": "markdown",
      "source": [
        "0を境に、出力が0から1に切り替わることが確認できた。"
      ],
      "metadata": {
        "id": "5AZ0pcnmZCIC"
      }
    },
    {
      "cell_type": "markdown",
      "source": [
        "### 3.2.4 シグモイド関数の実装  \n",
        "続いてシグモイド関数を実装してみる。"
      ],
      "metadata": {
        "id": "Qn5ANVeYZH7v"
      }
    },
    {
      "cell_type": "code",
      "source": [
        "#シグモイド関数の実装\n",
        "def sigmoid(x):\n",
        "  return 1/(1+np.exp(-x))"
      ],
      "metadata": {
        "id": "BpiSOrNcZPjI"
      },
      "execution_count": 5,
      "outputs": []
    },
    {
      "cell_type": "code",
      "source": [
        "#確認\n",
        "print(\"x = [-1, 1, 2] : sigmoid(x) = {}\".format(sigmoid(np.array([-1,1,2]))))"
      ],
      "metadata": {
        "colab": {
          "base_uri": "https://localhost:8080/"
        },
        "id": "1Fa5Yi6LZiQQ",
        "outputId": "c3036a7c-8111-4a3c-a161-7706d7df1fb8"
      },
      "execution_count": 6,
      "outputs": [
        {
          "output_type": "stream",
          "name": "stdout",
          "text": [
            "x = [-1, 1, 2] : sigmoid(x) = [0.26894142 0.73105858 0.88079708]\n"
          ]
        }
      ]
    },
    {
      "cell_type": "code",
      "source": [
        "#シグモイド関数の描画\n",
        "x = np.arange(-5.0, 5.0, 0.1)\n",
        "y = sigmoid(x)\n",
        "fig,ax = plt.subplots(figsize=(7,5))\n",
        "ax.plot(x,y)\n",
        "ax.set_ylim(-0.1, 1.1)"
      ],
      "metadata": {
        "colab": {
          "base_uri": "https://localhost:8080/",
          "height": 462
        },
        "id": "5JVDofx4ZrW6",
        "outputId": "6aa2c0d9-f2cf-4d5f-b0b0-42771a937151"
      },
      "execution_count": 7,
      "outputs": [
        {
          "output_type": "execute_result",
          "data": {
            "text/plain": [
              "(-0.1, 1.1)"
            ]
          },
          "metadata": {},
          "execution_count": 7
        },
        {
          "output_type": "display_data",
          "data": {
            "text/plain": [
              "<Figure size 700x500 with 1 Axes>"
            ],
            "image/png": "[encoded data removed]"
          },
          "metadata": {}
        }
      ]
    },
    {
      "cell_type": "markdown",
      "source": [
        "### 3.2.5 シグモイド関数とステップ関数の比較  \n",
        "シグモイド関数とステップ関数の相違点  \n",
        "1) シグモイド関数が滑らかな曲線であるのに対し、ステップ関数は急激に出力が変化する。  \n",
        "2) ステップ関数が0か1の値しか返さないのに対し、シグモイド関数は実数を返す。\n",
        "\n",
        "シグモイド関数とステップ関数の共通点  \n",
        "1) どちらも、入力が大きければ大きい値、小さければ小さい値を返す。  \n",
        "2) 出力範囲が0から1である。"
      ],
      "metadata": {
        "id": "i76QVknWZx_L"
      }
    },
    {
      "cell_type": "markdown",
      "source": [
        "### 3.2.6 非線形関数  \n",
        "ステップ関数とシグモイド関数の重要な共通点は、非線形関数であること。ニューラルネットワークでは、活性化関数に非線形関数を用いる必要がある(線形関数の場合、層を深くしても、同じことを行う1つの線形関数が存在してしまう)。"
      ],
      "metadata": {
        "id": "HRWNuEz2ahRe"
      }
    },
    {
      "cell_type": "markdown",
      "source": [
        "### 3.2.7 ReLU関数  \n",
        "最近では、シグモイド関数に代わって、ReLUという関数が主に用いられている。ReLUは、入力が0を超えていれば値をそのまま出力し、0以下であれば0を出力する。"
      ],
      "metadata": {
        "id": "5vC5Elqja8CP"
      }
    },
    {
      "cell_type": "code",
      "source": [
        "#ReLU関数の実装\n",
        "def ReLU(x):\n",
        "  return np.maximum(0,x)"
      ],
      "metadata": {
        "id": "l28xMVhibMNq"
      },
      "execution_count": 8,
      "outputs": []
    },
    {
      "cell_type": "code",
      "source": [
        "#ReLU関数の描画\n",
        "x = np.arange(-5.0, 5.0, 0.1)\n",
        "y = ReLU(x)\n",
        "fig,ax = plt.subplots(figsize=(7,5))\n",
        "ax.plot(x,y)\n",
        "ax.set_ylim(-0.1, 5.0)"
      ],
      "metadata": {
        "colab": {
          "base_uri": "https://localhost:8080/",
          "height": 468
        },
        "id": "bOUvc8LJbWNu",
        "outputId": "7b965b37-a55a-4fde-f42a-32394f56ba41"
      },
      "execution_count": 9,
      "outputs": [
        {
          "output_type": "execute_result",
          "data": {
            "text/plain": [
              "(-0.1, 5.0)"
            ]
          },
          "metadata": {},
          "execution_count": 9
        },
        {
          "output_type": "display_data",
          "data": {
            "text/plain": [
              "<Figure size 700x500 with 1 Axes>"
            ],
            "image/png": "[encoded data removed]"
          },
          "metadata": {}
        }
      ]
    },
    {
      "cell_type": "markdown",
      "source": [
        "## 3.3 多次元配列の計算"
      ],
      "metadata": {
        "id": "6MqKTNOKbbdg"
      }
    },
    {
      "cell_type": "markdown",
      "source": [
        "### 3.3.1 多次元配列  \n",
        "略"
      ],
      "metadata": {
        "id": "aNQ69MVvbedU"
      }
    },
    {
      "cell_type": "markdown",
      "source": [
        "### 3.3.2 行列の積  \n"
      ],
      "metadata": {
        "id": "Wm9cvgRIburz"
      }
    },
    {
      "cell_type": "code",
      "source": [
        "#行列の積はdotで計算できる\n",
        "A = np.array([[1,2],[3,4]])\n",
        "print(\"A.shape : {}\".format(A.shape))\n",
        "B = np.array([[5,6],[7,8]])\n",
        "print(\"B.shape : {}\".format(B.shape))\n",
        "print(\"A * B : {}\".format(np.dot(A,B)))"
      ],
      "metadata": {
        "colab": {
          "base_uri": "https://localhost:8080/"
        },
        "id": "5FBfNF20bzot",
        "outputId": "3d82b861-5e1f-4b7c-c5a8-2cd5cad865b9"
      },
      "execution_count": 10,
      "outputs": [
        {
          "output_type": "stream",
          "name": "stdout",
          "text": [
            "A.shape : (2, 2)\n",
            "B.shape : (2, 2)\n",
            "A * B : [[19 22]\n",
            " [43 50]]\n"
          ]
        }
      ]
    },
    {
      "cell_type": "markdown",
      "source": [
        "### 3.3.3 ニューラルネットワークの行列の積  \n",
        "入力と重みだけからなる簡単なニューラルネットワークの実装をしてみる。"
      ],
      "metadata": {
        "id": "sl-eMSoQcct_"
      }
    },
    {
      "cell_type": "code",
      "source": [
        "#簡単なニューラルネットワークの実装\n",
        "X = np.array([1,2])\n",
        "W = np.array([[1,3,5],[2,4,6]])\n",
        "print(\"X.shape : {}\".format(X.shape))\n",
        "print(\"W.shape : {}\".format(W.shape))\n",
        "\n",
        "Y = np.dot(X,W)\n",
        "print(Y)\n",
        "print(\"Y.shape : {}\".format(Y.shape))"
      ],
      "metadata": {
        "colab": {
          "base_uri": "https://localhost:8080/"
        },
        "id": "MshKyGNPcoOt",
        "outputId": "9fa2f70e-e665-4369-8fc8-9a5a6e51444d"
      },
      "execution_count": 11,
      "outputs": [
        {
          "output_type": "stream",
          "name": "stdout",
          "text": [
            "X.shape : (2,)\n",
            "W.shape : (2, 3)\n",
            "[ 5 11 17]\n",
            "Y.shape : (3,)\n"
          ]
        }
      ]
    },
    {
      "cell_type": "markdown",
      "source": [
        "## 3.4 3層ニューラルネットワークの実装  \n",
        "より実践的なニューラルネットワークを実装する。ここでは、入力層に2つ、1つ目の隠れ層に3つ、2つ目の隠れ層に2つ、出力層に2つのニューロンから構成されるニューラルネットワークを考える。"
      ],
      "metadata": {
        "id": "ImroZv9jdV1a"
      }
    },
    {
      "cell_type": "markdown",
      "source": [
        "### 3.4.1 記号の確認  \n",
        "略"
      ],
      "metadata": {
        "id": "YpIKDvRPddij"
      }
    },
    {
      "cell_type": "markdown",
      "source": [
        "### 3.4.2 各層における信号伝達の実装  \n"
      ],
      "metadata": {
        "id": "KjoqRmVgduGu"
      }
    },
    {
      "cell_type": "code",
      "source": [
        "#第一層目の重み付き和を求める(値は適当な数字)\n",
        "X = np.array([1.0, 0.5])\n",
        "W1 = np.array([[0.1, 0.3, 0.5],[0.2, 0.4, 0.6]])\n",
        "B1 = np.array([0.1, 0.2, 0.3])\n",
        "\n",
        "print(\"X.shape : {}\".format(X.shape))\n",
        "print(\"W1.shape : {}\".format(W1.shape))\n",
        "print(\"B1.shape : {}\".format(B1.shape))\n",
        "\n",
        "A1 = np.dot(X,W1)+B1\n",
        "print(\"A1 : {}\".format(A1))"
      ],
      "metadata": {
        "colab": {
          "base_uri": "https://localhost:8080/"
        },
        "id": "Pi3xs-mRemhS",
        "outputId": "9e6c1437-0b36-4952-b21b-6fd2a7b22ad2"
      },
      "execution_count": 12,
      "outputs": [
        {
          "output_type": "stream",
          "name": "stdout",
          "text": [
            "X.shape : (2,)\n",
            "W1.shape : (2, 3)\n",
            "B1.shape : (3,)\n",
            "A1 : [0.3 0.7 1.1]\n"
          ]
        }
      ]
    },
    {
      "cell_type": "code",
      "source": [
        "#活性化関数を適用する\n",
        "Z1 = sigmoid(A1)\n",
        "print(\"Z1 : {}\".format(Z1))"
      ],
      "metadata": {
        "colab": {
          "base_uri": "https://localhost:8080/"
        },
        "id": "l2RxBH8pf1NW",
        "outputId": "de681b42-9c39-4168-cb14-ebff4a90c624"
      },
      "execution_count": 13,
      "outputs": [
        {
          "output_type": "stream",
          "name": "stdout",
          "text": [
            "Z1 : [0.57444252 0.66818777 0.75026011]\n"
          ]
        }
      ]
    },
    {
      "cell_type": "code",
      "source": [
        "#第一層目から第二層目の実装を行う\n",
        "W2 = np.array([[0.1, 0.4], [0.2, 0.5], [0.3, 0.6]])\n",
        "B2 = np.array([0.1, 0.2])\n",
        "\n",
        "print(\"Z1.shape : {}\".format(Z1.shape))\n",
        "print(\"W2.shape : {}\".format(W2.shape))\n",
        "print(\"B2.shape : {}\".format(B2.shape))\n",
        "\n",
        "A2 = np.dot(Z1, W2) + B2\n",
        "Z2 = sigmoid(A2)"
      ],
      "metadata": {
        "colab": {
          "base_uri": "https://localhost:8080/"
        },
        "id": "yBn3RGaxf8V6",
        "outputId": "c36295fc-01ff-4def-939e-dcac54e5b167"
      },
      "execution_count": 14,
      "outputs": [
        {
          "output_type": "stream",
          "name": "stdout",
          "text": [
            "Z1.shape : (3,)\n",
            "W2.shape : (3, 2)\n",
            "B2.shape : (2,)\n"
          ]
        }
      ]
    },
    {
      "cell_type": "code",
      "source": [
        "#第二層目から出力層への信号伝達\n",
        "\n",
        "#活性化関数には恒等関数を用いる\n",
        "def identity_function(x):\n",
        "  return x\n",
        "\n",
        "W3 = np.array([[0.1, 0.3],[0.2, 0.4]])\n",
        "B3 = np.array([0.1,0.2])\n",
        "\n",
        "A3 = np.dot(Z2,W3)\n",
        "Y = identity_function(A3)"
      ],
      "metadata": {
        "id": "frMNDZW7gg_g"
      },
      "execution_count": 15,
      "outputs": []
    },
    {
      "cell_type": "markdown",
      "source": [
        "### 3.4.3 実装のまとめ  \n",
        "ここまでに見てきた3層ニューラルネットワークの実装をまとめる。"
      ],
      "metadata": {
        "id": "GRsBDDvAeyJb"
      }
    },
    {
      "cell_type": "code",
      "source": [
        "#init_network : 重みとバイアスの初期化\n",
        "def init_network():\n",
        "  network = {}\n",
        "  network[\"W1\"] = np.array([[0.1, 0.3, 0.5],[0.2, 0.4, 0.6]])\n",
        "  network[\"b1\"] = np.array([0.1, 0.2, 0.3])\n",
        "  network[\"W2\"] = np.array([[0.1, 0.4], [0.2, 0.5], [0.3, 0.6]])\n",
        "  network[\"b2\"] = np.array([0.1, 0.2])\n",
        "  network[\"W3\"] = np.array([[0.1, 0.3],[0.2, 0.4]])\n",
        "  network[\"b3\"] = np.array([0.1,0.2])\n",
        "\n",
        "  return network\n",
        "\n",
        "#forword : 入力が出力へと変換されるプロセスを実装\n",
        "def forward(network, x):\n",
        "  W1, W2, W3 = network[\"W1\"], network[\"W2\"], network[\"W3\"]\n",
        "  b1, b2, b3 = network[\"b1\"], network[\"b2\"], network[\"b3\"]\n",
        "\n",
        "  a1 = np.dot(X, W1) + b1\n",
        "  z1 = sigmoid(a1)\n",
        "  a2 = np.dot(z1, W2) + b2\n",
        "  z2 = sigmoid(a2)\n",
        "  a3 = np. dot(z2, W3) + b3\n",
        "  y = identity_function(a3)\n",
        "\n",
        "  return y"
      ],
      "metadata": {
        "id": "guFLB5O9e7Yt"
      },
      "execution_count": 16,
      "outputs": []
    },
    {
      "cell_type": "markdown",
      "source": [
        "## 3.5 出力層の設計  \n",
        "ニューラルネットワークでは、分類問題か回帰問題かで出力層の活性化関数を変更する必要がある。一般的に、回帰問題では恒等関数、分類問題ではソフトマックス関数を使う。"
      ],
      "metadata": {
        "id": "uOsrp6hfaF__"
      }
    },
    {
      "cell_type": "markdown",
      "source": [
        "### 3.5.1 恒等関数とソフトマックス関数  \n",
        "恒等関数は、入力をそのまま出力する。一方、ソフトマックス関数は、  \n",
        "$y_k = \\frac{exp(a_k)}{\\sum\\exp(a_i)}$  \n",
        "で表される。  \n",
        "\n",
        "実装してみる。"
      ],
      "metadata": {
        "id": "LgQIBrR5ai2z"
      }
    },
    {
      "cell_type": "code",
      "source": [
        "#ソフトマックス関数の実装\n",
        "def softmax(a):\n",
        "  exp_a = np.exp(a)\n",
        "  sum_exp_a = np.sum(exp_a)\n",
        "  y = exp_a / sum_exp_a\n",
        "  return y"
      ],
      "metadata": {
        "id": "qOLaFEjMbjFM"
      },
      "execution_count": 17,
      "outputs": []
    },
    {
      "cell_type": "code",
      "source": [
        "#確認\n",
        "a = np.array([0.3, 2.9, 4.0])\n",
        "print(\"soft_max(a) : {}\".format(softmax(a)))"
      ],
      "metadata": {
        "colab": {
          "base_uri": "https://localhost:8080/"
        },
        "id": "9NmkcZyZb63F",
        "outputId": "d6037d76-c76d-4e95-b7f3-f7ede760af5f"
      },
      "execution_count": 18,
      "outputs": [
        {
          "output_type": "stream",
          "name": "stdout",
          "text": [
            "soft_max(a) : [0.01821127 0.24519181 0.73659691]\n"
          ]
        }
      ]
    },
    {
      "cell_type": "markdown",
      "source": [
        "### 3.5.2 ソフトマックス関数の実装上の注意  \n",
        "ソフトマックス関数のナイーブな実装では、オーバーフローの恐れがある。ソフトマックス関数の計算結果は、定数を足し算しても変わらないことを利用してオーバーフローしないように実装する。  "
      ],
      "metadata": {
        "id": "hJAzcqGKcNDY"
      }
    },
    {
      "cell_type": "code",
      "source": [
        "#ソフトマックス関数の実装\n",
        "def softmax(a):\n",
        "  c = np.max(a)\n",
        "  exp_a = np.exp(a-c)\n",
        "  sum_exp_a = np.sum(exp_a)\n",
        "  y = exp_a / sum_exp_a\n",
        "  return y"
      ],
      "metadata": {
        "id": "lR1Z7hQVctmM"
      },
      "execution_count": 19,
      "outputs": []
    },
    {
      "cell_type": "code",
      "source": [
        "#確認\n",
        "a = np.array([1010, 1000, 990])\n",
        "print(\"soft_max(a) : {}\".format(softmax(a)))"
      ],
      "metadata": {
        "colab": {
          "base_uri": "https://localhost:8080/"
        },
        "id": "R9qMtcj2c2oY",
        "outputId": "806f117a-83c6-41e4-c7f4-97746ef29ca5"
      },
      "execution_count": 20,
      "outputs": [
        {
          "output_type": "stream",
          "name": "stdout",
          "text": [
            "soft_max(a) : [9.99954600e-01 4.53978686e-05 2.06106005e-09]\n"
          ]
        }
      ]
    },
    {
      "cell_type": "markdown",
      "source": [
        "### 3.5.3 ソフトマックス関数の特徴  \n",
        "ソフトマックス関数の出力は、0から1の間の実数になる。また、出力の総和は1になる。出力の総和が1になる性質から、ソフトマックス関数の出力を「確率」として解釈することができる。"
      ],
      "metadata": {
        "id": "Q9g9YXHpdBTK"
      }
    },
    {
      "cell_type": "markdown",
      "source": [
        "### 3.5.4 出力層のニューロンの数  \n",
        "出力層のニューロンの数は、解くべき問題に応じて決める必要がある。例えば、クラス分類タスクの場合、ニューロンの数は分類したいクラスの数に設定する。"
      ],
      "metadata": {
        "id": "quyUkO6Ndmi-"
      }
    },
    {
      "cell_type": "markdown",
      "source": [
        "## 3.6 手書き数字認識"
      ],
      "metadata": {
        "id": "jNf8RFnHFwOg"
      }
    },
    {
      "cell_type": "markdown",
      "source": [
        "### 3.6.1 MNISTデータセット  \n",
        "MNISTデータセット : 機械学習の分野で広く用いられるデータセット。0から9までの数字画像で構成される画像認識用のデータセット。画像データは28 x 28のグレー画像で、それぞれ対応するラベルが付けられている。"
      ],
      "metadata": {
        "id": "O5KZB44hF0Mr"
      }
    },
    {
      "cell_type": "code",
      "source": [
        "from google.colab import drive\n",
        "drive.mount('/content/drive')"
      ],
      "metadata": {
        "colab": {
          "base_uri": "https://localhost:8080/"
        },
        "id": "4QcPAnQxGOCY",
        "outputId": "abf785a4-c989-498b-99bd-e03901961595"
      },
      "execution_count": 21,
      "outputs": [
        {
          "output_type": "stream",
          "name": "stdout",
          "text": [
            "Mounted at /content/drive\n"
          ]
        }
      ]
    },
    {
      "cell_type": "code",
      "source": [
        "# mnist.pyをインポート\n",
        "import sys, os\n",
        "sys.path.append(\"/content/drive/MyDrive/Colab Notebooks/ゼロから作るDeep Learning\")\n",
        "from mnist import load_mnist"
      ],
      "metadata": {
        "id": "zCXWsQLxGJij"
      },
      "execution_count": 22,
      "outputs": []
    },
    {
      "cell_type": "code",
      "source": [
        "#データの読み込み\n",
        "(x_train, t_train), (x_test, t_test) = load_mnist(flatten = True, normalize = False)"
      ],
      "metadata": {
        "id": "fdrt-0UpHUap"
      },
      "execution_count": 23,
      "outputs": []
    },
    {
      "cell_type": "code",
      "source": [
        "#各データの形状を確認\n",
        "print(\"x_train.shape {}\".format(x_train.shape))\n",
        "print(\"t_train.shape {}\".format(t_train.shape))\n",
        "print(\"x_test.shape {}\".format(x_test.shape))\n",
        "print(\"t_test.shape {}\".format(t_test.shape))"
      ],
      "metadata": {
        "colab": {
          "base_uri": "https://localhost:8080/"
        },
        "id": "PE7uDMKTBA8h",
        "outputId": "070f5ca2-dbc5-4532-edde-a47dfc3b11d4"
      },
      "execution_count": 24,
      "outputs": [
        {
          "output_type": "stream",
          "name": "stdout",
          "text": [
            "x_train.shape (60000, 784)\n",
            "t_train.shape (60000,)\n",
            "x_test.shape (10000, 784)\n",
            "t_test.shape (10000,)\n"
          ]
        }
      ]
    },
    {
      "cell_type": "markdown",
      "source": [
        "データの確認も兼ねて画像を表示してみる。"
      ],
      "metadata": {
        "id": "kHSMufpYBlx6"
      }
    },
    {
      "cell_type": "code",
      "source": [
        "from PIL import Image\n",
        "\n",
        "def img_show(img):\n",
        "  pil_img = Image.fromarray(np.uint8(img)) #メモリ削減のため8ビット整数にしている?\n",
        "  display(pil_img)\n",
        "\n",
        "img = x_train[0]\n",
        "label = t_train[0]\n",
        "print(\"label : {}\".format(label))\n",
        "\n",
        "print(\"img_shape (before) : {}\".format(img.shape))\n",
        "img = img.reshape(28,28) #画像の形状を変換\n",
        "print(\"img_shape (after) : {}\".format(img.shape))\n",
        "\n",
        "img_show(img)"
      ],
      "metadata": {
        "colab": {
          "base_uri": "https://localhost:8080/",
          "height": 97
        },
        "id": "PXkQ9uUFBo7q",
        "outputId": "d9023278-c592-4e33-e01e-352b5de8ede0"
      },
      "execution_count": 25,
      "outputs": [
        {
          "output_type": "stream",
          "name": "stdout",
          "text": [
            "label : 5\n",
            "img_shape (before) : (784,)\n",
            "img_shape (after) : (28, 28)\n"
          ]
        },
        {
          "output_type": "display_data",
          "data": {
            "text/plain": [
              "<PIL.Image.Image image mode=L size=28x28>"
            ],
            "image/png": "[encoded data removed]"
          },
          "metadata": {}
        }
      ]
    },
    {
      "cell_type": "markdown",
      "source": [
        "### 3.6.2 ニューラルネットワークの推論処理\n",
        "MNISTデータセットに対して、推論処理を行うニューラルネットワークを実装してみる。ネットワークは、入力層が784個、出力層を10個のニューロンで構成する。"
      ],
      "metadata": {
        "id": "p76fotVwDd7g"
      }
    },
    {
      "cell_type": "code",
      "source": [
        "# テストデータ取得\n",
        "def get_data():\n",
        "  (x_train, t_train), (x_test, t_test) = load_mnist(flatten = True, normalize = True, one_hot_label=False)\n",
        "  return x_test, t_test\n",
        "\n",
        "# 学習済みの重みを読み込む\n",
        "def init_network():\n",
        "  with open(\"drive/MyDrive/Colab Notebooks/ゼロから作るDeep Learning/sample_weight.pkl\", \"rb\") as f:\n",
        "    network = pickle.load(f)\n",
        "  return network\n",
        "\n",
        "#推論\n",
        "def predict(network, x):\n",
        "  W1, W2, W3 = network[\"W1\"], network[\"W2\"], network[\"W3\"]\n",
        "  b1, b2, b3 = network[\"b1\"], network[\"b2\"], network[\"b3\"]\n",
        "\n",
        "  a1 = np.dot(x, W1) + b1\n",
        "  z1 = sigmoid(a1)\n",
        "  a2 = np.dot(z1, W2) + b2\n",
        "  z2 = sigmoid(a2)\n",
        "  a3 = np. dot(z2, W3) + b3\n",
        "  y = softmax(a3)\n",
        "\n",
        "  return y"
      ],
      "metadata": {
        "id": "G4DN-07QDwrE"
      },
      "execution_count": 26,
      "outputs": []
    },
    {
      "cell_type": "code",
      "source": [
        "#実際に推論してみる\n",
        "x, t = get_data()\n",
        "network = init_network()\n",
        "\n",
        "accuracy_cnt = 0\n",
        "for i in range(len(x)):\n",
        "  y = predict(network, x[i])\n",
        "  p = np.argmax(y)\n",
        "\n",
        "  if p == t[i]:\n",
        "    accuracy_cnt += 1\n",
        "\n",
        "print(\"Accuracy : {}\".format(float(accuracy_cnt)/len(x)))"
      ],
      "metadata": {
        "colab": {
          "base_uri": "https://localhost:8080/"
        },
        "id": "CGmvu0PpFV-t",
        "outputId": "3aa26e21-3015-48b3-b06c-b97d3add6731"
      },
      "execution_count": 27,
      "outputs": [
        {
          "output_type": "stream",
          "name": "stdout",
          "text": [
            "Accuracy : 0.9352\n"
          ]
        }
      ]
    },
    {
      "cell_type": "markdown",
      "source": [
        "93.52 % 正しく分類できた。  \n",
        "\n",
        "ここでは、normalizeをTrueに設定し、画像の各ピクセルの値が0.0 - 1.0に収まるように変換した。このようにデータをある決まった範囲に変換する処理を正規化という。また、ニューラルネットワークの入力データに対して、何らかの決まった変換を行うことを前処理という。"
      ],
      "metadata": {
        "id": "TeDGh29MHzT_"
      }
    },
    {
      "cell_type": "markdown",
      "source": [
        "### 3.6.3 バッチ処理\n"
      ],
      "metadata": {
        "id": "Ps5Mdk96ISgf"
      }
    },
    {
      "cell_type": "code",
      "source": [
        "#画像一枚の入力に対する各層の重みの形状を確認\n",
        "x, _ = get_data()\n",
        "network = init_network()\n",
        "W1, W2, W3 = network[\"W1\"], network[\"W2\"], network[\"W3\"]\n",
        "\n",
        "print(\"x.shape : {}\".format(x.shape))\n",
        "print(\"x[0].shape : {}\".format(x[0].shape))\n",
        "print(\"W1.shape : {}\".format(W1.shape))\n",
        "print(\"W2.shape : {}\".format(W2.shape))\n",
        "print(\"W3.shape : {}\".format(W3.shape))"
      ],
      "metadata": {
        "colab": {
          "base_uri": "https://localhost:8080/"
        },
        "id": "7qkI0CsrImGC",
        "outputId": "15889c46-6d8c-4263-ce8b-aeb14394ed6b"
      },
      "execution_count": 28,
      "outputs": [
        {
          "output_type": "stream",
          "name": "stdout",
          "text": [
            "x.shape : (10000, 784)\n",
            "x[0].shape : (784,)\n",
            "W1.shape : (784, 50)\n",
            "W2.shape : (50, 100)\n",
            "W3.shape : (100, 10)\n"
          ]
        }
      ]
    },
    {
      "cell_type": "markdown",
      "source": [
        "100枚の画像をまとめて1回のpredictで処理することを考える。この時入力データの形状は100 * 784になる。このようなまとまりのある入力データをバッチと呼ぶ。バッチ処理により、計算時間の削減が期待される。"
      ],
      "metadata": {
        "id": "ZxTkzXzMJRat"
      }
    },
    {
      "cell_type": "code",
      "source": [
        "#バッチ処理を実装する\n",
        "x, t = get_data()\n",
        "network = init_network()\n",
        "\n",
        "batch_size = 100\n",
        "accuracy_cnt = 0\n",
        "\n",
        "for i in range(0, len(x), batch_size):\n",
        "  x_batch = x[i:i+batch_size]\n",
        "  y_batch = predict(network, x_batch)\n",
        "  p = np.argmax(y_batch, axis = 1)\n",
        "\n",
        "  accuracy_cnt += np.sum(p == t[i:i+batch_size])\n",
        "\n",
        "print(\"Accuracy : {}\".format(float(accuracy_cnt)/len(x)))"
      ],
      "metadata": {
        "colab": {
          "base_uri": "https://localhost:8080/"
        },
        "id": "1e--tlSY7xj7",
        "outputId": "c8ea10f1-e624-471b-86fc-838b17bc772e"
      },
      "execution_count": 29,
      "outputs": [
        {
          "output_type": "stream",
          "name": "stdout",
          "text": [
            "Accuracy : 0.9352\n"
          ]
        }
      ]
    }
  ]
}