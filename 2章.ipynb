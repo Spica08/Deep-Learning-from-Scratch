{
  "nbformat": 4,
  "nbformat_minor": 0,
  "metadata": {
    "colab": {
      "provenance": [],
      "authorship_tag": "ABX9TyPH9QxnPIPj2vgJoyT85c8L",
      "include_colab_link": true
    },
    "kernelspec": {
      "name": "python3",
      "display_name": "Python 3"
    },
    "language_info": {
      "name": "python"
    }
  },
  "cells": [
    {
      "cell_type": "markdown",
      "metadata": {
        "id": "view-in-github",
        "colab_type": "text"
      },
      "source": [
        "<a href=\"https://colab.research.google.com/github/Spica08/Deep-Learning-from-Scratch/blob/main/2%E7%AB%A0.ipynb\" target=\"_parent\"><img src=\"https://colab.research.google.com/assets/colab-badge.svg\" alt=\"Open In Colab\"/></a>"
      ]
    },
    {
      "cell_type": "code",
      "source": [
        "#setup\n",
        "import numpy as np"
      ],
      "metadata": {
        "id": "cDwJiWzSXc3P"
      },
      "execution_count": 6,
      "outputs": []
    },
    {
      "cell_type": "markdown",
      "source": [
        "#2章 パーセプトロン"
      ],
      "metadata": {
        "id": "N2_3VTGhSdMq"
      }
    },
    {
      "cell_type": "markdown",
      "source": [
        "## 2.1 パーセプトロンとは  \n",
        "パーセプトロンは、複数の信号を受け取りひとつの信号を出力する。信号は「流す」「流さない」の二値であり、「流さない」を0、「流す」を1とする。"
      ],
      "metadata": {
        "id": "t-7GMbR6SjrB"
      }
    },
    {
      "cell_type": "markdown",
      "source": [
        "## 2.2 単純な論理回路  "
      ],
      "metadata": {
        "id": "9nd_rjdqTX9F"
      }
    },
    {
      "cell_type": "markdown",
      "source": [
        "### 2.2.1 AND ゲート  \n",
        "ANDゲート : 2入力1出力のゲートで、2つの入力が1の時だけ1を出力し、それ以外は0を出力する。  \n",
        "これを満たすようなパラメータは無限に存在し、例えば  \n",
        "(w1, w2, θ) = (0.5, 0.5, 0.7)、(0.5, 0.5, 0.8)、(1.0, 1.0, 1.0)  \n",
        "などが存在する。"
      ],
      "metadata": {
        "id": "uzN9gGRLTbRc"
      }
    },
    {
      "cell_type": "markdown",
      "source": [
        "### 2.2.2 NAND ゲートとOR ゲート  \n",
        "NANDゲート : 2つの入力が1の時だけ0を出力し、それ以外は1を出力する。  \n",
        "ANDゲートを実現するパラメータの符号を全て反転することでNANDゲートが実現でき、例えば  \n",
        "(w1, w2, θ) = (-0.5, -0.5, -0.7)  \n",
        "などが存在する。  \n",
        "\n",
        "ORゲート : 2つの入力のどちらか一方が1なら1を出力する。  \n",
        "これを満たすパラメータとしては、  \n",
        "(w1, w2, θ) = (1.0, 1.0, 0.8)  \n",
        "などが存在する。\n",
        "\n",
        "以上のように、パーセプトロンを使えばAND、NAND、ORという論理回路を表現できる。構造は3つ全てで同じであり、パラメータの値のみが異なる。"
      ],
      "metadata": {
        "id": "ShFv7-vsUMEG"
      }
    },
    {
      "cell_type": "markdown",
      "source": [
        "## 2.3 パーセプトロンの実装"
      ],
      "metadata": {
        "id": "S9jPPZ5YVOXc"
      }
    },
    {
      "cell_type": "markdown",
      "source": [
        "### 2.3.1 簡単な実装  \n",
        "先ほどの論理回路を簡単に実装してみる"
      ],
      "metadata": {
        "id": "yKfYfI0mVTHV"
      }
    },
    {
      "cell_type": "code",
      "source": [
        "#AND回路を実装する\n",
        "def AND(x1, x2):\n",
        "  w1, w2, theta = 0.5, 0.5, 0.7\n",
        "  tmp = x1*w1 + x2*w2\n",
        "  if tmp <= theta:\n",
        "    return 0\n",
        "  elif tmp > theta:\n",
        "    return 1"
      ],
      "metadata": {
        "id": "TBoWZX6qVZrc"
      },
      "execution_count": 1,
      "outputs": []
    },
    {
      "cell_type": "code",
      "source": [
        "#確認\n",
        "for i in [0,1]:\n",
        "  for j in [0,1]:\n",
        "    print(\"AND({}, {}) = {}\".format(i,j,AND(i,j)))"
      ],
      "metadata": {
        "colab": {
          "base_uri": "https://localhost:8080/"
        },
        "id": "xUYvgns8Vt0P",
        "outputId": "150e9c81-bb92-4044-8ae0-2bdb8eb1ca72"
      },
      "execution_count": 5,
      "outputs": [
        {
          "output_type": "stream",
          "name": "stdout",
          "text": [
            "AND(0, 0) = 0\n",
            "AND(0, 1) = 0\n",
            "AND(1, 0) = 0\n",
            "AND(1, 1) = 1\n"
          ]
        }
      ]
    },
    {
      "cell_type": "markdown",
      "source": [
        "正しくANDを表現できた。"
      ],
      "metadata": {
        "id": "pIcpG8SZWG3f"
      }
    },
    {
      "cell_type": "markdown",
      "source": [
        "### 2.3.2 重みとバイアスの導入  \n",
        "以降の実装ではbで表されるバイアスを導入し、入力信号に重みが乗算された値とバイアスの和が0を上回っていれば1を出力し、そうでなければ0を出力することとする。"
      ],
      "metadata": {
        "id": "uuO3Yr3zWPgF"
      }
    },
    {
      "cell_type": "markdown",
      "source": [
        "### 2.3.3 重みとバイアスによる実装  \n",
        "先ほどのバイアスを導入してANDを再び実装する。"
      ],
      "metadata": {
        "id": "-gOLUDwHXM3Y"
      }
    },
    {
      "cell_type": "code",
      "source": [
        "#バイアスを導入してANDを実装\n",
        "def AND(x1, x2):\n",
        "  x = np.array([x1, x2])\n",
        "  w = np.array([0.5, 0.5])\n",
        "  b = -0.7\n",
        "  tmp = np.sum(w*x) + b\n",
        "  if tmp <= 0:\n",
        "    return 0\n",
        "  else:\n",
        "    return 1"
      ],
      "metadata": {
        "id": "4UAFLUrRXTiA"
      },
      "execution_count": 7,
      "outputs": []
    },
    {
      "cell_type": "code",
      "source": [
        "#確認\n",
        "for i in [0,1]:\n",
        "  for j in [0,1]:\n",
        "    print(\"AND({}, {}) = {}\".format(i,j,AND(i,j)))"
      ],
      "metadata": {
        "colab": {
          "base_uri": "https://localhost:8080/"
        },
        "id": "qUqRNVpKXvAQ",
        "outputId": "c3df0ae3-963b-4e6d-d875-71a3d601fd93"
      },
      "execution_count": 8,
      "outputs": [
        {
          "output_type": "stream",
          "name": "stdout",
          "text": [
            "AND(0, 0) = 0\n",
            "AND(0, 1) = 0\n",
            "AND(1, 0) = 0\n",
            "AND(1, 1) = 1\n"
          ]
        }
      ]
    },
    {
      "cell_type": "markdown",
      "source": [
        "NANDとORも実装してみる。"
      ],
      "metadata": {
        "id": "pKhijNtiX4GV"
      }
    },
    {
      "cell_type": "code",
      "source": [
        "#NANDを実装\n",
        "def NAND(x1, x2):\n",
        "  x = np.array([x1, x2])\n",
        "  w = np.array([-0.5, -0.5])\n",
        "  b = 0.7\n",
        "  tmp = np.sum(w*x) + b\n",
        "  if tmp <= 0:\n",
        "    return 0\n",
        "  else:\n",
        "    return 1"
      ],
      "metadata": {
        "id": "abXhSKv9X6Jy"
      },
      "execution_count": 9,
      "outputs": []
    },
    {
      "cell_type": "code",
      "source": [
        "#確認\n",
        "for i in [0,1]:\n",
        "  for j in [0,1]:\n",
        "    print(\"NAND({}, {}) = {}\".format(i,j,NAND(i,j)))"
      ],
      "metadata": {
        "colab": {
          "base_uri": "https://localhost:8080/"
        },
        "id": "OCq8SRoSYBYL",
        "outputId": "89151300-7ee5-4f64-ad7d-697f64a2accb"
      },
      "execution_count": 10,
      "outputs": [
        {
          "output_type": "stream",
          "name": "stdout",
          "text": [
            "NAND(0, 0) = 1\n",
            "NAND(0, 1) = 1\n",
            "NAND(1, 0) = 1\n",
            "NAND(1, 1) = 0\n"
          ]
        }
      ]
    },
    {
      "cell_type": "code",
      "source": [
        "#ORを実装\n",
        "def OR(x1, x2):\n",
        "  x = np.array([x1, x2])\n",
        "  w = np.array([0.5, 0.5])\n",
        "  b = -0.2\n",
        "  tmp = np.sum(w*x) + b\n",
        "  if tmp <= 0:\n",
        "    return 0\n",
        "  else:\n",
        "    return 1"
      ],
      "metadata": {
        "id": "Ffauhh4rYFWg"
      },
      "execution_count": 11,
      "outputs": []
    },
    {
      "cell_type": "code",
      "source": [
        "#確認\n",
        "for i in [0,1]:\n",
        "  for j in [0,1]:\n",
        "    print(\"OR({}, {}) = {}\".format(i,j,OR(i,j)))"
      ],
      "metadata": {
        "colab": {
          "base_uri": "https://localhost:8080/"
        },
        "id": "rMdMjhABYMaM",
        "outputId": "e84e7adb-fb92-4e1a-ccf6-3f1e1c46e17b"
      },
      "execution_count": 12,
      "outputs": [
        {
          "output_type": "stream",
          "name": "stdout",
          "text": [
            "OR(0, 0) = 0\n",
            "OR(0, 1) = 1\n",
            "OR(1, 0) = 1\n",
            "OR(1, 1) = 1\n"
          ]
        }
      ]
    },
    {
      "cell_type": "markdown",
      "source": [
        "NANDとORも正しく実装できた。"
      ],
      "metadata": {
        "id": "OpDWQCAvYPpe"
      }
    },
    {
      "cell_type": "markdown",
      "source": [
        "## 2.4 パーセプトロンの限界  \n",
        "パーセプトロンを用いればAND、NAND、ORを実装できた。続いてXORについて考えてみる。"
      ],
      "metadata": {
        "id": "9Bjwd7vLYU_N"
      }
    },
    {
      "cell_type": "markdown",
      "source": [
        "### 2.4.1 XORゲート  \n",
        "XORゲート : 排他的論理和とも呼ばれ、2つの入力のどちらか一方のみが1の時に1を出力し、それ以外は0を出力する。  \n",
        "\n",
        "実は、パーセプトロンではXORゲートを表現することができない。これは、パーセプトロンが領域を直線で分断されるのに対し、XORゲートの出力を直線で表現することはできない。  "
      ],
      "metadata": {
        "id": "oS7xBP3jYlTH"
      }
    },
    {
      "cell_type": "markdown",
      "source": [
        "### 2.4.2 線形と非線形  \n",
        "パーセプトロンは、1本の直線で分けた領域しか表現できない。ここで、曲線による領域を非線形、直線による領域を線形な領域という。"
      ],
      "metadata": {
        "id": "gOMxOy6qZSpl"
      }
    },
    {
      "cell_type": "markdown",
      "source": [
        "## 2.5 多層パーセプトロン  \n",
        "パーセプトロンは、層を重ねることができる。"
      ],
      "metadata": {
        "id": "WP60T9PfZtWW"
      }
    },
    {
      "cell_type": "markdown",
      "source": [
        "### 2.5.1 既存ゲートの組み合わせ  \n",
        "既存ゲートの組み合わせでXORを表現してみる。  \n",
        "(x1 NAND x2) AND (x1 OR x2)  \n",
        "で表現できる。"
      ],
      "metadata": {
        "id": "fikPZV5bZ-IJ"
      }
    },
    {
      "cell_type": "markdown",
      "source": [
        "### 2.5.2 XORゲートの実装  \n",
        "これまでに定義した関数を用いてXORを実装する。"
      ],
      "metadata": {
        "id": "VA_H5zh-a0bO"
      }
    },
    {
      "cell_type": "code",
      "source": [
        "#XORを実装\n",
        "def XOR(x1, x2):\n",
        "  s1 = NAND(x1, x2)\n",
        "  s2 = OR(x1, x2)\n",
        "  y = AND(s1, s2)\n",
        "  return y"
      ],
      "metadata": {
        "id": "eXPhDx4ZbMk6"
      },
      "execution_count": 13,
      "outputs": []
    },
    {
      "cell_type": "code",
      "source": [
        "#確認\n",
        "for i in [0,1]:\n",
        "  for j in [0,1]:\n",
        "    print(\"XOR({}, {}) = {}\".format(i,j,XOR(i,j)))"
      ],
      "metadata": {
        "colab": {
          "base_uri": "https://localhost:8080/"
        },
        "id": "R3feZEYfbVEJ",
        "outputId": "59c837f9-d023-4697-e7fc-661e7f9c654d"
      },
      "execution_count": 14,
      "outputs": [
        {
          "output_type": "stream",
          "name": "stdout",
          "text": [
            "XOR(0, 0) = 0\n",
            "XOR(0, 1) = 1\n",
            "XOR(1, 0) = 1\n",
            "XOR(1, 1) = 0\n"
          ]
        }
      ]
    },
    {
      "cell_type": "markdown",
      "source": [
        "層を複数重ねたパーセプトロンを多層パーセプトロンと呼ぶ。パーセプトロンは、層を重ねることで、より柔軟な表現が可能になる。"
      ],
      "metadata": {
        "id": "5hz6q8Xabsk-"
      }
    },
    {
      "cell_type": "markdown",
      "source": [
        "## 2.6 NANDからコンピュータへ  \n",
        "多層パーセプトロンにより、より複雑な、足し算を行う加算器、2進数を10進数に変換するエンコーダ、パリティチェック用の回路なども作ることができる。実は、NANDゲートの組み合わせでコンピュータを作ることもできる。"
      ],
      "metadata": {
        "id": "fp2VpTJDcPq9"
      }
    }
  ]
}