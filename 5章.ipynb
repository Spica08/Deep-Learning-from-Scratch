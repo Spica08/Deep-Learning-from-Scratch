{
  "nbformat": 4,
  "nbformat_minor": 0,
  "metadata": {
    "colab": {
      "provenance": [],
      "authorship_tag": "ABX9TyOU/CZviaiohqTVkxFNHTQU",
      "include_colab_link": true
    },
    "kernelspec": {
      "name": "python3",
      "display_name": "Python 3"
    },
    "language_info": {
      "name": "python"
    }
  },
  "cells": [
    {
      "cell_type": "markdown",
      "metadata": {
        "id": "view-in-github",
        "colab_type": "text"
      },
      "source": [
        "<a href=\"https://colab.research.google.com/github/Spica08/Deep-Learning-from-Scratch/blob/main/5%E7%AB%A0.ipynb\" target=\"_parent\"><img src=\"https://colab.research.google.com/assets/colab-badge.svg\" alt=\"Open In Colab\"/></a>"
      ]
    },
    {
      "cell_type": "code",
      "execution_count": 1,
      "metadata": {
        "id": "O-IUXiEHHA12"
      },
      "outputs": [],
      "source": [
        "#setup\n",
        "import numpy as np\n",
        "import matplotlib.pyplot as plt\n",
        "import pickle\n",
        "from tqdm import tqdm\n",
        "from collections import OrderedDict"
      ]
    },
    {
      "cell_type": "code",
      "source": [
        "#function\n",
        "\n",
        "#恒等関数\n",
        "def identity_function(x):\n",
        "    return x\n",
        "\n",
        "#ステップ関数\n",
        "def step_function(x):\n",
        "  y = x > 0\n",
        "  return y.astype(int)\n",
        "\n",
        "#シグモイド関数\n",
        "def sigmoid(x):\n",
        "  return 1/(1+np.exp(-x))\n",
        "\n",
        "#ReLU関数\n",
        "def ReLU(x):\n",
        "  return np.maximum(0,x)\n",
        "\n",
        "#ソフトマックス関数\n",
        "def softmax(x):\n",
        "    x = x - np.max(x, axis=-1, keepdims=True)   # オーバーフロー対策\n",
        "    return np.exp(x) / np.sum(np.exp(x), axis=-1, keepdims=True)\n",
        "\n",
        "#2乗和誤差\n",
        "def mean_square_error(y, t):\n",
        "  return 0.5 * np.sum((y-t)**2)\n",
        "\n",
        "#交差エントロピー誤差\n",
        "def cross_entropy_error(y, t):\n",
        "    if y.ndim == 1:\n",
        "        t = t.reshape(1, t.size)\n",
        "        y = y.reshape(1, y.size)\n",
        "\n",
        "    # 教師データがone-hot-vectorの場合、正解ラベルのインデックスに変換\n",
        "    if t.size == y.size:\n",
        "        t = t.argmax(axis=1)\n",
        "\n",
        "    batch_size = y.shape[0]\n",
        "    return -np.sum(np.log(y[np.arange(batch_size), t] + 1e-7)) / batch_size\n",
        "\n",
        "def numerical_gradient(f, x):\n",
        "    h = 1e-4 # 0.0001\n",
        "    grad = np.zeros_like(x)\n",
        "\n",
        "    it = np.nditer(x, flags=['multi_index'], op_flags=['readwrite'])\n",
        "    while not it.finished:\n",
        "        idx = it.multi_index\n",
        "        tmp_val = x[idx]\n",
        "        x[idx] = tmp_val + h\n",
        "        fxh1 = f(x) # f(x+h)\n",
        "\n",
        "        x[idx] = tmp_val - h\n",
        "        fxh2 = f(x) # f(x-h)\n",
        "        grad[idx] = (fxh1 - fxh2) / (2*h)\n",
        "\n",
        "        x[idx] = tmp_val # 値を元に戻す\n",
        "        it.iternext()\n",
        "\n",
        "    return grad"
      ],
      "metadata": {
        "id": "C4zZPoISHHoW"
      },
      "execution_count": 45,
      "outputs": []
    },
    {
      "cell_type": "markdown",
      "source": [
        "# 5章 誤差逆伝播法"
      ],
      "metadata": {
        "id": "tl3tBvByIz67"
      }
    },
    {
      "cell_type": "markdown",
      "source": [
        "# 5.1 計算グラフ\n",
        "計算グラフとは、計算の過程をグラフにしたもの。\n",
        "  \n"
      ],
      "metadata": {
        "id": "2zdgOBPeI2T8"
      }
    },
    {
      "cell_type": "markdown",
      "source": [
        "### 5.1.1 計算グラフで解く  \n",
        "計算グラフを使って問題を解くには、  \n",
        "(1) 計算グラフを構築する。  \n",
        "(2) 計算グラフ上で計算を左から右へ進める。  \n",
        "2番目のステップを**順伝播**と呼ぶ。逆に、右から左へと計算を進めることを**逆伝播**と呼ぶ。"
      ],
      "metadata": {
        "id": "wcOuMoykJxF4"
      }
    },
    {
      "cell_type": "markdown",
      "source": [
        "### 5.1.2 局所的な計算\n",
        "計算グラフの特徴は、「局所的な計算」を伝播することによって最終的な結果を得ることができる点にある。"
      ],
      "metadata": {
        "id": "NS2d8rzvJrjM"
      }
    },
    {
      "cell_type": "markdown",
      "source": [
        "### 5.1.3 なぜ計算グラフで解くのか?\n",
        "計算グラフで問題を解く最大の理由は、逆伝播によって微分を効率よく計算できる点にある。  \n"
      ],
      "metadata": {
        "id": "XK_hUAWIKPfd"
      }
    },
    {
      "cell_type": "markdown",
      "source": [
        "## 5.2 連鎖律"
      ],
      "metadata": {
        "id": "Nh8zUUl-LAQ3"
      }
    },
    {
      "cell_type": "markdown",
      "source": [
        "### 5.2.1 計算グラフの逆伝播  \n",
        "逆伝播では、信号Eに対して、ノードの局所的な微分($\\frac{\\partial y}{\\partial x}$)を乗算し、それを次のノードへと伝える。"
      ],
      "metadata": {
        "id": "FWrj-86RLIq6"
      }
    },
    {
      "cell_type": "markdown",
      "source": [
        "### 5.2.2 連鎖律とは  \n",
        "連鎖律の原理とは、  \n",
        "**ある関数が合成関数で表される場合、その合成関数の微分は、合成関数を構成するそれぞれの関数の微分の積によって表すことができる。**  \n",
        "と定義される。"
      ],
      "metadata": {
        "id": "QqyLm499LtbQ"
      }
    },
    {
      "cell_type": "markdown",
      "source": [
        "### 5.2.3 連鎖律と計算グラフ  \n",
        "略"
      ],
      "metadata": {
        "id": "4NM4LJxKMNCj"
      }
    },
    {
      "cell_type": "markdown",
      "source": [
        "## 5.3 逆伝播"
      ],
      "metadata": {
        "id": "iwdrtvWlMnok"
      }
    },
    {
      "cell_type": "markdown",
      "source": [
        "### 5.3.1 加算ノードの逆伝播  \n",
        "z = x + y という数式を対象にして逆伝播を考える。まず、この数式の微分は、  \n",
        "$\\frac{\\partial z}{\\partial x} = 1$  \n",
        "$\\frac{\\partial z}{\\partial y} = 1$  \n",
        "従って、逆伝播の際には、$\\frac{\\partial z}{\\partial x} = 1$を乗算して下流へと伝える。"
      ],
      "metadata": {
        "id": "DTF5WTMrMp3W"
      }
    },
    {
      "cell_type": "markdown",
      "source": [
        "### 5.3.2 乗算ノードの逆伝播\n",
        "z = xy という数式を対象にして逆伝播を考える。まず、この数式の微分は、  \n",
        "$\\frac{\\partial z}{\\partial x} = y$  \n",
        "$\\frac{\\partial z}{\\partial y} = x$  \n",
        "従って、逆伝播の際には、$\\frac{\\partial z}{\\partial x} = y$を乗算して下流へと伝える。この際、順伝播の入力信号の値が必要になるため、これを保持しておく必要がある。"
      ],
      "metadata": {
        "id": "lkKmTGeaNfaf"
      }
    },
    {
      "cell_type": "markdown",
      "source": [
        "## 5.4 単純なレイヤの実装"
      ],
      "metadata": {
        "id": "IslRmY6fOJ09"
      }
    },
    {
      "cell_type": "markdown",
      "source": [
        "### 5.4.1 乗算レイヤの実装\n"
      ],
      "metadata": {
        "id": "9_D46hjXOTeh"
      }
    },
    {
      "cell_type": "code",
      "source": [
        "class MulLayer:\n",
        "  #順伝播時の信号を保持するための変数\n",
        "  def __init__(self):\n",
        "    self.x = None\n",
        "    self.y = None\n",
        "\n",
        "  def forward(self, x, y):\n",
        "    self.x = x\n",
        "    self.y = y\n",
        "    out = x * y\n",
        "    return out\n",
        "\n",
        "  #dout : 上流から伝わってきた微分\n",
        "  def backward(self, dout):\n",
        "    dx = self.y * dout\n",
        "    dy = self.x * dout\n",
        "    return dx, dy"
      ],
      "metadata": {
        "id": "fTwOL4jcOYTo"
      },
      "execution_count": 56,
      "outputs": []
    },
    {
      "cell_type": "markdown",
      "source": [
        "1つ100円のりんごを2つ買い、10 % の消費税がかかる時の、支払額の合計額を求める問題における計算グラフを実装する。"
      ],
      "metadata": {
        "id": "fuL3fjdxPA_6"
      }
    },
    {
      "cell_type": "code",
      "source": [
        "apple = 100\n",
        "apple_num = 2\n",
        "tax = 1.1\n",
        "\n",
        "#layer\n",
        "mul_apple_layer = MulLayer()\n",
        "mul_tax_layer = MulLayer()\n",
        "\n",
        "#forward\n",
        "apple_price = mul_apple_layer.forward(apple, apple_num)\n",
        "price = mul_tax_layer.forward(apple_price, tax)\n",
        "\n",
        "print(price)"
      ],
      "metadata": {
        "colab": {
          "base_uri": "https://localhost:8080/"
        },
        "id": "bEmydDJ1PM31",
        "outputId": "3a13482c-5626-4132-cc97-91987b366584"
      },
      "execution_count": 4,
      "outputs": [
        {
          "output_type": "stream",
          "name": "stdout",
          "text": [
            "220.00000000000003\n"
          ]
        }
      ]
    },
    {
      "cell_type": "code",
      "source": [
        "#backward\n",
        "dprice = 1\n",
        "dapple_price, dtax = mul_tax_layer.backward(dprice)\n",
        "dapple, dapple_num = mul_apple_layer.backward(dapple_price)\n",
        "print(dapple, dapple_num, dtax)"
      ],
      "metadata": {
        "colab": {
          "base_uri": "https://localhost:8080/"
        },
        "id": "5gS5aO2oPu8_",
        "outputId": "5e04bf31-719b-4206-831c-139492e6adfd"
      },
      "execution_count": 48,
      "outputs": [
        {
          "output_type": "stream",
          "name": "stdout",
          "text": [
            "2.2 110.00000000000001 200\n"
          ]
        }
      ]
    },
    {
      "cell_type": "markdown",
      "source": [
        "### 5.4.2 加算レイヤの実装"
      ],
      "metadata": {
        "id": "XH3pe0gHQUrY"
      }
    },
    {
      "cell_type": "code",
      "source": [
        "class AddLayer:\n",
        "  #順伝播時の信号を保持するための変数\n",
        "  def __init__(self):\n",
        "    pass\n",
        "\n",
        "  def forward(self, x, y):\n",
        "    out = x + y\n",
        "    return out\n",
        "\n",
        "  #dout : 上流から伝わってきた微分\n",
        "  def backward(self, dout):\n",
        "    dx = 1 * dout\n",
        "    dy = 1 * dout\n",
        "    return dx, dy"
      ],
      "metadata": {
        "id": "xmye_r3aQZY4"
      },
      "execution_count": 57,
      "outputs": []
    },
    {
      "cell_type": "markdown",
      "source": [
        "## 5.5 活性化関数レイヤの実装"
      ],
      "metadata": {
        "id": "UZ17XlVHQyYR"
      }
    },
    {
      "cell_type": "markdown",
      "source": [
        "### 5.5.1 ReLUレイヤ\n",
        "ReLUは以下の式で表される。  \n",
        "$y=\\begin{cases}x&(x > 0)\\\\0& (x \\leqq 0)\\end{cases}$  \n",
        "微分は、  \n",
        "$\\frac{\\partial y}{\\partial x}=\\begin{cases}1&(x > 0)\\\\0& (x \\leqq 0)\\end{cases}$  \n",
        "となる。"
      ],
      "metadata": {
        "id": "8wkxwh3aQ13_"
      }
    },
    {
      "cell_type": "code",
      "source": [
        "class Relu:\n",
        "  def __init__(self):\n",
        "    self.mask = None\n",
        "\n",
        "  def forward(self, x):\n",
        "    self.mask = (x <= 0)\n",
        "    out = x.copy()\n",
        "    out[self.mask] = 0\n",
        "    return out\n",
        "\n",
        "  def backward(self, dout):\n",
        "    dout[self.mask] = 0\n",
        "    dx = dout\n",
        "    return dx"
      ],
      "metadata": {
        "id": "8UF8QWVj0ge7"
      },
      "execution_count": 58,
      "outputs": []
    },
    {
      "cell_type": "markdown",
      "source": [
        "### 5.5.2 Sigmoidレイヤ"
      ],
      "metadata": {
        "id": "YFfCZcVHXm9L"
      }
    },
    {
      "cell_type": "markdown",
      "source": [
        "シグモイド関数は以下のように表される。  \n",
        "$y = \\frac{1}{1 + exp(-x)}$  \n",
        "局所的な計算に注目して逆伝播を実装する。結果として、Sigmoid関数の微分は、  \n",
        "$\\frac{\\partial y}{\\partial x} = y(1 - y)$  \n",
        "と表される。"
      ],
      "metadata": {
        "id": "KPyZf19kXrLt"
      }
    },
    {
      "cell_type": "code",
      "source": [
        "class Sigmoid:\n",
        "  def __init__(self, W, b):\n",
        "    self.out = None\n",
        "\n",
        "  def forward(self, x):\n",
        "    out = 1 / (1 + np.exp(-x))\n",
        "    self.out = out\n",
        "    return out\n",
        "\n",
        "  def backward(self, dout):\n",
        "    dx = self.out * (1.0 - self.out) * dout\n",
        "    return dx"
      ],
      "metadata": {
        "id": "i_4K-0YkTGAc"
      },
      "execution_count": 50,
      "outputs": []
    },
    {
      "cell_type": "markdown",
      "source": [
        "## 5.6 Affine / Softmaxレイヤの実装"
      ],
      "metadata": {
        "id": "6R6fL4nGaGIS"
      }
    },
    {
      "cell_type": "markdown",
      "source": [
        "### 5.6.1 Affineレイヤ\n",
        "ニューラルネットワークにおける順伝播では、入力を行列としたアフィン変換が行われる。  \n",
        "詳細略"
      ],
      "metadata": {
        "id": "H1vcu3_RaIoX"
      }
    },
    {
      "cell_type": "markdown",
      "source": [
        "### 5.6.2 バッチ版Affineレイヤ\n",
        "バイアスについて、逆伝播の際は各データにおける逆伝播の値を集約する必要があることに注意して実装する。  "
      ],
      "metadata": {
        "id": "aAPmOAI7cN3A"
      }
    },
    {
      "cell_type": "code",
      "source": [
        "class Affine:\n",
        "  def __init__(self, W, b):\n",
        "    self.W = W\n",
        "    self.b = b\n",
        "    self.x = None\n",
        "    self.dW = None\n",
        "    self.db = None\n",
        "\n",
        "  def forward(self, x):\n",
        "    self.x = x\n",
        "    out = np.dot(x, self.W) + self.b\n",
        "    return out\n",
        "\n",
        "  def backward(self, dout):\n",
        "    dx = np.dot(dout, self.W.T)\n",
        "    self.dW = np.dot(self.x.T, dout)\n",
        "    self.db = np.sum(dout, axis = 0)\n",
        "    return dx"
      ],
      "metadata": {
        "id": "kzfCnXBu06WU"
      },
      "execution_count": 63,
      "outputs": []
    },
    {
      "cell_type": "markdown",
      "source": [
        "### 5.6.3 Softmax-with-Lossレイヤ\n",
        "ここでは、Softmaxレイヤの実装にあたって、損失関数である交差エントロピー誤差も含めた「Softmax-with-Loss」レイヤとして実装する。"
      ],
      "metadata": {
        "id": "nhSyenOUeaHd"
      }
    },
    {
      "cell_type": "code",
      "source": [
        "class SoftmaxWithLoss:\n",
        "  def __init__(self):\n",
        "    self.loss = None\n",
        "    self.y = None #softmaxの出力\n",
        "    self.t = None #教師データ\n",
        "\n",
        "  def forward(self, x, t):\n",
        "    self.t = t\n",
        "    self.y = softmax(x)\n",
        "    self.loss = cross_entropy_error(self.y, self.t)\n",
        "    return self.loss\n",
        "\n",
        "  def backward(self, dout = 1):\n",
        "    batch_size = self.t.shape[0]\n",
        "    if self.t.size == self.y.size:\n",
        "      dx = (self.y - self.t) / batch_size\n",
        "    else:\n",
        "      dx = self.y.copy()\n",
        "      dx[np.arange(batch_size), self.t] -= 1\n",
        "      dx = dx / batch_size\n",
        "    return dx"
      ],
      "metadata": {
        "id": "V0lec51S1sTR"
      },
      "execution_count": 60,
      "outputs": []
    },
    {
      "cell_type": "markdown",
      "source": [
        "## 5.7 誤差逆伝播法の実装"
      ],
      "metadata": {
        "id": "AMtsGCPzh5Pu"
      }
    },
    {
      "cell_type": "markdown",
      "source": [
        "### 5.7.1 ニューラルネットワークの学習の全体図\n",
        "ニューラルネットワークの全体図は以下のようになっている。  \n",
        "1(ミニバッチ) : 訓練データの中からランダムに一部のデータを選び出す。  \n",
        "2(勾配の算出) : 各重みパラメータに関する損失関数の勾配を求める。  \n",
        "3(パラメータの更新) : 重みパラメータを勾配方向に微少量だけ更新する。  \n",
        "4(繰り返す) : ステップ1 - 3を繰り返す。  \n",
        "誤差逆伝播法を用いれば、数値微分では時間がかかっていた勾配算出を高速に行うことができる。"
      ],
      "metadata": {
        "id": "jD2NZy9MltnW"
      }
    },
    {
      "cell_type": "markdown",
      "source": [
        "### 5.7.2 誤差逆伝播法に対応したニューラルネットワークの実装\n"
      ],
      "metadata": {
        "id": "CsoJqWo6mUDN"
      }
    },
    {
      "cell_type": "code",
      "source": [
        "class TwoLayerNet:\n",
        "  def __init__(self, input_size, hidden_size, output_size, weight_init_std = 0.01):\n",
        "    #重みの初期化\n",
        "    self.params = {}\n",
        "    self.params[\"W1\"] = weight_init_std * np.random.randn(input_size, hidden_size)\n",
        "    self.params[\"b1\"] = np.zeros(hidden_size)\n",
        "    self.params[\"W2\"] = weight_init_std * np.random.randn(hidden_size, output_size)\n",
        "    self.params[\"b2\"] = np.zeros(output_size)\n",
        "\n",
        "    #レイヤの生成\n",
        "    self.layers = OrderedDict()\n",
        "    self.layers[\"Affine1\"] = Affine(self.params[\"W1\"], self.params[\"b1\"])\n",
        "    self.layers[\"Relu1\"] = Relu()\n",
        "    self.layers[\"Affine2\"] = Affine(self.params[\"W2\"], self.params[\"b2\"])\n",
        "\n",
        "    self.lastlayer = SoftmaxWithLoss()\n",
        "\n",
        "  def predict(self, x):\n",
        "    for layer in self.layers.values():\n",
        "      x = layer.forward(x)\n",
        "\n",
        "    return x\n",
        "\n",
        "  def loss(self, x, t):\n",
        "    y = self.predict(x)\n",
        "    return self.lastlayer.forward(y, t)\n",
        "\n",
        "  def accuracy(self, x, t):\n",
        "    y = self.predict(x)\n",
        "    y = np.argmax(y, axis = 1)\n",
        "    if t.ndim != 1:\n",
        "      t = np.argmax(t, axis = 1)\n",
        "    accuracy = np.sum((y == t)) / float(x.shape[0])\n",
        "    return accuracy\n",
        "\n",
        "  def numerical_gradient(self, x, t):\n",
        "    loss_W = lambda W:self.loss(x, t)\n",
        "\n",
        "    grads = {}\n",
        "    grads[\"W1\"] = numerical_gradient(loss_W, self.params[\"W1\"])\n",
        "    grads[\"b1\"] = numerical_gradient(loss_W, self.params[\"b1\"])\n",
        "    grads[\"W2\"] = numerical_gradient(loss_W, self.params[\"W2\"])\n",
        "    grads[\"b2\"] = numerical_gradient(loss_W, self.params[\"b2\"])\n",
        "\n",
        "    return grads\n",
        "\n",
        "  def gradient(self, x, t):\n",
        "    # forward\n",
        "    self.loss(x, t)\n",
        "\n",
        "    # backward\n",
        "    dout = 1\n",
        "    dout = self.lastlayer.backward(dout)\n",
        "\n",
        "    layers = list(self.layers.values())\n",
        "    layers.reverse()\n",
        "    for layer in layers:\n",
        "      dout = layer.backward(dout)\n",
        "\n",
        "    grads = {}\n",
        "    grads[\"W1\"] = self.layers[\"Affine1\"].dW\n",
        "    grads[\"b1\"] = self.layers[\"Affine1\"].db\n",
        "    grads[\"W2\"] = self.layers[\"Affine2\"].dW\n",
        "    grads[\"b2\"] = self.layers[\"Affine2\"].db\n",
        "\n",
        "    return grads"
      ],
      "metadata": {
        "id": "Te_QM0IJmsge"
      },
      "execution_count": 64,
      "outputs": []
    },
    {
      "cell_type": "markdown",
      "source": [
        "### 5.7.3 誤差逆伝播法の勾配確認\n",
        "数値微分は実装が簡単でバグが起こりにくいため、処理が高速だがバグが起こりやすい誤差逆伝播法の実装が正しく行えているかを確認するためにしばしば用いられる。**勾配確認**と呼ばれている。"
      ],
      "metadata": {
        "id": "nV0V_BwsqzB7"
      }
    },
    {
      "cell_type": "code",
      "source": [
        "#データ準備\n",
        "from google.colab import drive\n",
        "drive.mount('/content/drive')"
      ],
      "metadata": {
        "colab": {
          "base_uri": "https://localhost:8080/"
        },
        "id": "7qXOl_otrK6B",
        "outputId": "ce22ed2b-461b-4a11-a4d3-89655eaba68f"
      },
      "execution_count": 12,
      "outputs": [
        {
          "output_type": "stream",
          "name": "stdout",
          "text": [
            "Mounted at /content/drive\n"
          ]
        }
      ]
    },
    {
      "cell_type": "code",
      "source": [
        "# mnist.pyをインポート\n",
        "import sys, os\n",
        "sys.path.append(\"/content/drive/MyDrive/Colab Notebooks/ゼロから作るDeep Learning\")\n",
        "from mnist import load_mnist"
      ],
      "metadata": {
        "id": "IktyOGKPrTec"
      },
      "execution_count": 13,
      "outputs": []
    },
    {
      "cell_type": "code",
      "source": [
        "np.set_printoptions(precision=10)"
      ],
      "metadata": {
        "id": "z4JnNynUxhvw"
      },
      "execution_count": 23,
      "outputs": []
    },
    {
      "cell_type": "code",
      "source": [
        "#データの読み込み\n",
        "(x_train, t_train), (x_test, t_test) = load_mnist(flatten = True, normalize = True, one_hot_label = True)\n",
        "\n",
        "network = TwoLayerNet(input_size = 784, hidden_size = 50, output_size = 10)\n",
        "\n",
        "x_batch = x_train[:3]\n",
        "t_batch = t_train[:3]\n",
        "\n",
        "grad_numerical = network.numerical_gradient(x_batch, t_batch)\n",
        "grad_backprop = network.gradient(x_batch, t_batch)\n",
        "\n",
        "#各重みの絶対誤差の平均\n",
        "for key in grad_numerical.keys():\n",
        "  diff = np.average(np.abs(grad_backprop[key] - grad_numerical[key]))\n",
        "  print(key + \":\" + str(diff))"
      ],
      "metadata": {
        "colab": {
          "base_uri": "https://localhost:8080/"
        },
        "id": "UGEzvYDmrZUY",
        "outputId": "7c95a66b-790c-4e3a-ac77-94d65393d917"
      },
      "execution_count": 65,
      "outputs": [
        {
          "output_type": "stream",
          "name": "stdout",
          "text": [
            "W1:5.139487071554315e-10\n",
            "b1:3.076257784789035e-09\n",
            "W2:5.540096634591236e-09\n",
            "b2:1.3949140139080108e-07\n"
          ]
        }
      ]
    },
    {
      "cell_type": "markdown",
      "source": [
        "### 5.7.4 誤差逆伝播法を使った学習"
      ],
      "metadata": {
        "id": "iyJOl4t_7Iap"
      }
    },
    {
      "cell_type": "code",
      "source": [
        "#データの読み込み\n",
        "(x_train, t_train), (x_test, t_test) = load_mnist(flatten = True, normalize = True, one_hot_label = True)\n",
        "\n",
        "# 学習過程でのlossを保存\n",
        "train_loss_list = []\n",
        "\n",
        "#ハイパーパラメータ\n",
        "iters_num = 300\n",
        "train_size = x_train.shape[0]\n",
        "batch_size = 10\n",
        "learning_rate = 0.1\n",
        "\n",
        "#モデルの定義\n",
        "network = TwoLayerNet(input_size = 784, hidden_size = 10, output_size = 10)\n",
        "\n",
        "#ミニバッチ学習\n",
        "for i in tqdm(range(iters_num)):\n",
        "  #ミニバッチ取得\n",
        "  batch_mask = np.random.choice(train_size, batch_size)\n",
        "  x_batch = x_train[batch_mask]\n",
        "  t_batch = t_train[batch_mask]\n",
        "\n",
        "  #勾配計算\n",
        "  grad = network.gradient(x_batch, t_batch)\n",
        "\n",
        "  #パラメータ更新\n",
        "  for key in network.params.keys():\n",
        "    network.params[key] -= learning_rate * grad[key]\n",
        "\n",
        "  #学習過程の記録\n",
        "  loss = network.loss(x_batch, t_batch)\n",
        "  train_loss_list.append(loss)"
      ],
      "metadata": {
        "colab": {
          "base_uri": "https://localhost:8080/"
        },
        "id": "wpCSNDI_r26s",
        "outputId": "35dfff3b-c8ef-41aa-88df-30bf256f4a5c"
      },
      "execution_count": 66,
      "outputs": [
        {
          "output_type": "stream",
          "name": "stderr",
          "text": [
            "100%|██████████| 300/300 [00:00<00:00, 2637.98it/s]\n"
          ]
        }
      ]
    },
    {
      "cell_type": "code",
      "source": [
        "fig, ax = plt.subplots(figsize = (5,5))\n",
        "ax.plot(np.arange(300), train_loss_list)"
      ],
      "metadata": {
        "colab": {
          "base_uri": "https://localhost:8080/",
          "height": 462
        },
        "id": "d8CCoiM47Y2R",
        "outputId": "287bfb85-17c5-4ff9-cd4c-73706811365a"
      },
      "execution_count": 67,
      "outputs": [
        {
          "output_type": "execute_result",
          "data": {
            "text/plain": [
              "[<matplotlib.lines.Line2D at 0x7d7b31d550c0>]"
            ]
          },
          "metadata": {},
          "execution_count": 67
        },
        {
          "output_type": "display_data",
          "data": {
            "text/plain": [
              "<Figure size 500x500 with 1 Axes>"
            ],
            "image/png": "[encoded data removed]"
          },
          "metadata": {}
        }
      ]
    },
    {
      "cell_type": "code",
      "source": [
        "#データの読み込み\n",
        "(x_train, t_train), (x_test, t_test) = load_mnist(flatten = True, normalize = True, one_hot_label = True)\n",
        "\n",
        "# 学習過程でのlossを保存\n",
        "train_loss_list = []\n",
        "train_acc_list = []\n",
        "test_acc_list = []\n",
        "\n",
        "#ハイパーパラメータ\n",
        "iters_num = 10000\n",
        "train_size = x_train.shape[0]\n",
        "batch_size = 100\n",
        "learning_rate = 0.1\n",
        "\n",
        "#1エポックあたりの繰り返し数\n",
        "iter_per_epoch = max(train_size / batch_size, 1)\n",
        "\n",
        "#モデルの定義\n",
        "network = TwoLayerNet(input_size = 784, hidden_size = 10, output_size = 10)\n",
        "\n",
        "#ミニバッチ学習\n",
        "for i in tqdm(range(iters_num)):\n",
        "  #ミニバッチ取得\n",
        "  batch_mask = np.random.choice(train_size, batch_size)\n",
        "  x_batch = x_train[batch_mask]\n",
        "  t_batch = t_train[batch_mask]\n",
        "\n",
        "  #勾配計算\n",
        "  grad = network.gradient(x_batch, t_batch)\n",
        "\n",
        "  #パラメータ更新\n",
        "  for key in network.params.keys():\n",
        "    network.params[key] -= learning_rate * grad[key]\n",
        "\n",
        "  #学習過程の記録\n",
        "  loss = network.loss(x_batch, t_batch)\n",
        "  train_loss_list.append(loss)\n",
        "\n",
        "  if i % iter_per_epoch == 0:\n",
        "    train_acc = network.accuracy(x_train, t_train)\n",
        "    test_acc = network.accuracy(x_test, t_test)\n",
        "    train_acc_list.append(train_acc)\n",
        "    test_acc_list.append(test_acc)\n",
        "    print(\"train acc, test, acc | \" + str(train_acc) +\", \" + str(test_acc))"
      ],
      "metadata": {
        "colab": {
          "base_uri": "https://localhost:8080/"
        },
        "id": "OU8NmsFr7htn",
        "outputId": "c299b9a9-3489-4634-efb5-3805c7acef89"
      },
      "execution_count": 68,
      "outputs": [
        {
          "output_type": "stream",
          "name": "stderr",
          "text": [
            "  0%|          | 26/10000 [00:00<02:59, 55.48it/s] "
          ]
        },
        {
          "output_type": "stream",
          "name": "stdout",
          "text": [
            "train acc, test, acc | 0.10351666666666667, 0.0987\n"
          ]
        },
        {
          "output_type": "stream",
          "name": "stderr",
          "text": [
            "  7%|▋         | 658/10000 [00:03<00:49, 187.96it/s]"
          ]
        },
        {
          "output_type": "stream",
          "name": "stdout",
          "text": [
            "train acc, test, acc | 0.8835166666666666, 0.8835\n"
          ]
        },
        {
          "output_type": "stream",
          "name": "stderr",
          "text": [
            " 13%|█▎        | 1256/10000 [00:05<00:30, 291.16it/s]"
          ]
        },
        {
          "output_type": "stream",
          "name": "stdout",
          "text": [
            "train acc, test, acc | 0.9066833333333333, 0.9048\n"
          ]
        },
        {
          "output_type": "stream",
          "name": "stderr",
          "text": [
            " 19%|█▉        | 1888/10000 [00:06<00:27, 296.38it/s]"
          ]
        },
        {
          "output_type": "stream",
          "name": "stdout",
          "text": [
            "train acc, test, acc | 0.9133166666666667, 0.9121\n"
          ]
        },
        {
          "output_type": "stream",
          "name": "stderr",
          "text": [
            " 25%|██▍       | 2477/10000 [00:08<00:24, 311.84it/s]"
          ]
        },
        {
          "output_type": "stream",
          "name": "stdout",
          "text": [
            "train acc, test, acc | 0.9208833333333334, 0.9164\n"
          ]
        },
        {
          "output_type": "stream",
          "name": "stderr",
          "text": [
            " 31%|███       | 3083/10000 [00:09<00:21, 320.48it/s]"
          ]
        },
        {
          "output_type": "stream",
          "name": "stdout",
          "text": [
            "train acc, test, acc | 0.92935, 0.9261\n"
          ]
        },
        {
          "output_type": "stream",
          "name": "stderr",
          "text": [
            " 37%|███▋      | 3689/10000 [00:11<00:20, 308.95it/s]"
          ]
        },
        {
          "output_type": "stream",
          "name": "stdout",
          "text": [
            "train acc, test, acc | 0.93265, 0.9266\n"
          ]
        },
        {
          "output_type": "stream",
          "name": "stderr",
          "text": [
            " 43%|████▎     | 4304/10000 [00:12<00:17, 323.19it/s]"
          ]
        },
        {
          "output_type": "stream",
          "name": "stdout",
          "text": [
            "train acc, test, acc | 0.9346333333333333, 0.9277\n"
          ]
        },
        {
          "output_type": "stream",
          "name": "stderr",
          "text": [
            " 48%|████▊     | 4833/10000 [00:14<00:35, 144.51it/s]"
          ]
        },
        {
          "output_type": "stream",
          "name": "stdout",
          "text": [
            "train acc, test, acc | 0.9371166666666667, 0.9321\n"
          ]
        },
        {
          "output_type": "stream",
          "name": "stderr",
          "text": [
            " 55%|█████▍    | 5458/10000 [00:19<00:40, 112.76it/s]"
          ]
        },
        {
          "output_type": "stream",
          "name": "stdout",
          "text": [
            "train acc, test, acc | 0.9402666666666667, 0.935\n"
          ]
        },
        {
          "output_type": "stream",
          "name": "stderr",
          "text": [
            " 61%|██████    | 6055/10000 [00:20<00:13, 295.42it/s]"
          ]
        },
        {
          "output_type": "stream",
          "name": "stdout",
          "text": [
            "train acc, test, acc | 0.9414666666666667, 0.9366\n"
          ]
        },
        {
          "output_type": "stream",
          "name": "stderr",
          "text": [
            " 67%|██████▋   | 6655/10000 [00:22<00:11, 297.86it/s]"
          ]
        },
        {
          "output_type": "stream",
          "name": "stdout",
          "text": [
            "train acc, test, acc | 0.9399, 0.9327\n"
          ]
        },
        {
          "output_type": "stream",
          "name": "stderr",
          "text": [
            " 73%|███████▎  | 7303/10000 [00:23<00:08, 316.80it/s]"
          ]
        },
        {
          "output_type": "stream",
          "name": "stdout",
          "text": [
            "train acc, test, acc | 0.9409, 0.9336\n"
          ]
        },
        {
          "output_type": "stream",
          "name": "stderr",
          "text": [
            " 79%|███████▊  | 7874/10000 [00:25<00:07, 301.27it/s]"
          ]
        },
        {
          "output_type": "stream",
          "name": "stdout",
          "text": [
            "train acc, test, acc | 0.94245, 0.935\n"
          ]
        },
        {
          "output_type": "stream",
          "name": "stderr",
          "text": [
            " 85%|████████▍ | 8458/10000 [00:26<00:04, 311.78it/s]"
          ]
        },
        {
          "output_type": "stream",
          "name": "stdout",
          "text": [
            "train acc, test, acc | 0.9434833333333333, 0.9364\n"
          ]
        },
        {
          "output_type": "stream",
          "name": "stderr",
          "text": [
            " 91%|█████████ | 9060/10000 [00:28<00:02, 325.12it/s]"
          ]
        },
        {
          "output_type": "stream",
          "name": "stdout",
          "text": [
            "train acc, test, acc | 0.94435, 0.9353\n"
          ]
        },
        {
          "output_type": "stream",
          "name": "stderr",
          "text": [
            " 96%|█████████▋| 9628/10000 [00:30<00:03, 123.18it/s]"
          ]
        },
        {
          "output_type": "stream",
          "name": "stdout",
          "text": [
            "train acc, test, acc | 0.9441, 0.9357\n"
          ]
        },
        {
          "output_type": "stream",
          "name": "stderr",
          "text": [
            "100%|██████████| 10000/10000 [00:32<00:00, 309.93it/s]\n"
          ]
        }
      ]
    },
    {
      "cell_type": "code",
      "source": [
        "fig, ax = plt.subplots(figsize = (5,5))\n",
        "ax.plot(np.arange(len(train_acc_list)), train_acc_list)\n",
        "ax.plot(np.arange(len(test_acc_list)), test_acc_list)\n",
        "fig.show()"
      ],
      "metadata": {
        "colab": {
          "base_uri": "https://localhost:8080/",
          "height": 445
        },
        "id": "ydm5amvg7sOm",
        "outputId": "5590632f-2435-4f7c-b2b5-7f715cbce39a"
      },
      "execution_count": 69,
      "outputs": [
        {
          "output_type": "display_data",
          "data": {
            "text/plain": [
              "<Figure size 500x500 with 1 Axes>"
            ],
            "image/png": "[encoded data removed]"
          },
          "metadata": {}
        }
      ]
    }
  ]
}